{
 "cells": [
  {
   "cell_type": "markdown",
   "id": "bfa83cc8",
   "metadata": {
    "slideshow": {
     "slide_type": "slide"
    }
   },
   "source": [
    "# Analisa dan Visualisasi Data\n",
    "- Pada sesi ini kita akan membahas secara detail tentang proses analisa terhadap sebuah dataset(himpunan data)\n",
    "- Kemudian membahas juga tentang proses visualisasi data dari dataset tersebut "
   ]
  },
  {
   "cell_type": "markdown",
   "id": "fc4fcf87",
   "metadata": {
    "slideshow": {
     "slide_type": "slide"
    }
   },
   "source": [
    "## Dataset Kelulusan Mahasiswa\n",
    "- dataset yang akan kita gunakan dapat di download melalui link  https://github.com/Nurjaya370/Data-Science/blob/main/sample-dataMHS/kelulusan-mhs.csv\n",
    "- Dataset ini berisi kumpulan data dummy mahasiswa yang menunjukkan apakah seorang mahasiswa akan lulus tepat waktu atau tidak.\n",
    "- Dataset ini digunakan untuk mengembangkan model prediksi tingkat kelulusan mahasiswa yang dapat membantu pihak manajemen dalam memprediksi status kelulusan mahasiswa, sehingga akan menentukan kebijakan yang akan di ambil."
   ]
  },
  {
   "cell_type": "markdown",
   "id": "1520782d",
   "metadata": {
    "slideshow": {
     "slide_type": "slide"
    }
   },
   "source": [
    "# Analisa Data\n",
    "- Analisis data adalah proses menganalisis, menginterpretasikan, dan menyusun data untuk mengungkap pola, tren, dan informasi yang relevan.\n",
    "- Tujuan utama dari analisis data adalah\n",
    "- 1. Untuk lebih memahami pola dalam data dan berpotensi membentuk beberapa hipotesis.\n",
    "- 2. untuk menghasilkan pemahaman yang lebih baik tentang data"
   ]
  },
  {
   "cell_type": "markdown",
   "id": "2898287d",
   "metadata": {
    "slideshow": {
     "slide_type": "slide"
    }
   },
   "source": [
    "## Import Modul"
   ]
  },
  {
   "cell_type": "code",
   "execution_count": 1,
   "id": "20846071",
   "metadata": {
    "slideshow": {
     "slide_type": "slide"
    }
   },
   "outputs": [],
   "source": [
    "# mengimport paket/modul yang dibutuhkan\n",
    "import pandas as pd\n",
    "import numpy as np\n",
    "import matplotlib.pyplot as plt\n",
    "import matplotlib.ticker as mtick\n",
    "import matplotlib.colors as mcolors\n",
    "import seaborn as sns\n",
    "import warnings\n",
    "warnings.filterwarnings(\"ignore\")\n"
   ]
  },
  {
   "cell_type": "markdown",
   "id": "298bbef0",
   "metadata": {
    "slideshow": {
     "slide_type": "slide"
    }
   },
   "source": [
    "## Load Data"
   ]
  },
  {
   "cell_type": "code",
   "execution_count": 2,
   "id": "6c629071",
   "metadata": {
    "slideshow": {
     "slide_type": "slide"
    }
   },
   "outputs": [
    {
     "data": {
      "text/html": [
       "<div>\n",
       "<style scoped>\n",
       "    .dataframe tbody tr th:only-of-type {\n",
       "        vertical-align: middle;\n",
       "    }\n",
       "\n",
       "    .dataframe tbody tr th {\n",
       "        vertical-align: top;\n",
       "    }\n",
       "\n",
       "    .dataframe thead th {\n",
       "        text-align: right;\n",
       "    }\n",
       "</style>\n",
       "<table border=\"1\" class=\"dataframe\">\n",
       "  <thead>\n",
       "    <tr style=\"text-align: right;\">\n",
       "      <th></th>\n",
       "      <th>Nim</th>\n",
       "      <th>Nama</th>\n",
       "      <th>Jenis Kelamin</th>\n",
       "      <th>Usia</th>\n",
       "      <th>Status Bekerja</th>\n",
       "      <th>IPK semester 2</th>\n",
       "      <th>IPK semester 3</th>\n",
       "      <th>IPK semester 4</th>\n",
       "      <th>IPK semester 5</th>\n",
       "      <th>IPK semester 6</th>\n",
       "      <th>IPK semester 7</th>\n",
       "      <th>Lulus Tepat Waktu</th>\n",
       "      <th>Unnamed</th>\n",
       "    </tr>\n",
       "  </thead>\n",
       "  <tbody>\n",
       "    <tr>\n",
       "      <th>0</th>\n",
       "      <td>202001</td>\n",
       "      <td>ABKA ZAILANI</td>\n",
       "      <td>Pria</td>\n",
       "      <td>25</td>\n",
       "      <td>ya</td>\n",
       "      <td>3.45</td>\n",
       "      <td>2.45</td>\n",
       "      <td>2.75</td>\n",
       "      <td>3.00</td>\n",
       "      <td>2.45</td>\n",
       "      <td>3.70</td>\n",
       "      <td>tidak</td>\n",
       "      <td>0.0</td>\n",
       "    </tr>\n",
       "    <tr>\n",
       "      <th>1</th>\n",
       "      <td>202002</td>\n",
       "      <td>ADI YUDHA</td>\n",
       "      <td>Pria</td>\n",
       "      <td>21</td>\n",
       "      <td>tidak</td>\n",
       "      <td>3.45</td>\n",
       "      <td>2.76</td>\n",
       "      <td>2.90</td>\n",
       "      <td>2.45</td>\n",
       "      <td>2.76</td>\n",
       "      <td>3.70</td>\n",
       "      <td>ya</td>\n",
       "      <td>0.0</td>\n",
       "    </tr>\n",
       "    <tr>\n",
       "      <th>2</th>\n",
       "      <td>202003</td>\n",
       "      <td>ALDHI</td>\n",
       "      <td>Pria</td>\n",
       "      <td>22</td>\n",
       "      <td>tidak</td>\n",
       "      <td>3.20</td>\n",
       "      <td>3.00</td>\n",
       "      <td>2.45</td>\n",
       "      <td>2.00</td>\n",
       "      <td>3.00</td>\n",
       "      <td>3.89</td>\n",
       "      <td>ya</td>\n",
       "      <td>0.0</td>\n",
       "    </tr>\n",
       "    <tr>\n",
       "      <th>3</th>\n",
       "      <td>202004</td>\n",
       "      <td>AVRINA NARA EGYTIAN</td>\n",
       "      <td>Wanita</td>\n",
       "      <td>26</td>\n",
       "      <td>tidak</td>\n",
       "      <td>3.61</td>\n",
       "      <td>3.14</td>\n",
       "      <td>2.76</td>\n",
       "      <td>2.70</td>\n",
       "      <td>3.14</td>\n",
       "      <td>2.67</td>\n",
       "      <td>ya</td>\n",
       "      <td>0.0</td>\n",
       "    </tr>\n",
       "    <tr>\n",
       "      <th>4</th>\n",
       "      <td>202005</td>\n",
       "      <td>DODI SETIAWAN</td>\n",
       "      <td>Pria</td>\n",
       "      <td>22</td>\n",
       "      <td>tidak</td>\n",
       "      <td>3.00</td>\n",
       "      <td>2.75</td>\n",
       "      <td>2.12</td>\n",
       "      <td>2.90</td>\n",
       "      <td>2.75</td>\n",
       "      <td>2.89</td>\n",
       "      <td>tidak</td>\n",
       "      <td>NaN</td>\n",
       "    </tr>\n",
       "    <tr>\n",
       "      <th>...</th>\n",
       "      <td>...</td>\n",
       "      <td>...</td>\n",
       "      <td>...</td>\n",
       "      <td>...</td>\n",
       "      <td>...</td>\n",
       "      <td>...</td>\n",
       "      <td>...</td>\n",
       "      <td>...</td>\n",
       "      <td>...</td>\n",
       "      <td>...</td>\n",
       "      <td>...</td>\n",
       "      <td>...</td>\n",
       "      <td>...</td>\n",
       "    </tr>\n",
       "    <tr>\n",
       "      <th>230</th>\n",
       "      <td>202322</td>\n",
       "      <td>RINALDI KRISTIYANTO</td>\n",
       "      <td>Pria</td>\n",
       "      <td>22</td>\n",
       "      <td>ya</td>\n",
       "      <td>3.00</td>\n",
       "      <td>2.90</td>\n",
       "      <td>3.00</td>\n",
       "      <td>2.78</td>\n",
       "      <td>2.45</td>\n",
       "      <td>2.78</td>\n",
       "      <td>ya</td>\n",
       "      <td>NaN</td>\n",
       "    </tr>\n",
       "    <tr>\n",
       "      <th>231</th>\n",
       "      <td>202323</td>\n",
       "      <td>RIZKI RIZALDI TAUFIK</td>\n",
       "      <td>Pria</td>\n",
       "      <td>26</td>\n",
       "      <td>ya</td>\n",
       "      <td>3.00</td>\n",
       "      <td>3.00</td>\n",
       "      <td>2.45</td>\n",
       "      <td>3.24</td>\n",
       "      <td>2.00</td>\n",
       "      <td>3.24</td>\n",
       "      <td>tidak</td>\n",
       "      <td>NaN</td>\n",
       "    </tr>\n",
       "    <tr>\n",
       "      <th>232</th>\n",
       "      <td>202324</td>\n",
       "      <td>RUDIYANTO</td>\n",
       "      <td>Pria</td>\n",
       "      <td>29</td>\n",
       "      <td>ya</td>\n",
       "      <td>3.00</td>\n",
       "      <td>3.13</td>\n",
       "      <td>2.00</td>\n",
       "      <td>2.80</td>\n",
       "      <td>2.70</td>\n",
       "      <td>2.80</td>\n",
       "      <td>ya</td>\n",
       "      <td>NaN</td>\n",
       "    </tr>\n",
       "    <tr>\n",
       "      <th>233</th>\n",
       "      <td>202325</td>\n",
       "      <td>TIWI YUNIARTI ANUGRAHANI</td>\n",
       "      <td>Wanita</td>\n",
       "      <td>28</td>\n",
       "      <td>ya</td>\n",
       "      <td>2.45</td>\n",
       "      <td>2.98</td>\n",
       "      <td>2.70</td>\n",
       "      <td>2.57</td>\n",
       "      <td>2.90</td>\n",
       "      <td>2.57</td>\n",
       "      <td>ya</td>\n",
       "      <td>NaN</td>\n",
       "    </tr>\n",
       "    <tr>\n",
       "      <th>234</th>\n",
       "      <td>202326</td>\n",
       "      <td>YUSUF AGUNG ABDURRACHMAN</td>\n",
       "      <td>Pria</td>\n",
       "      <td>28</td>\n",
       "      <td>ya</td>\n",
       "      <td>2.00</td>\n",
       "      <td>3.00</td>\n",
       "      <td>2.90</td>\n",
       "      <td>2.80</td>\n",
       "      <td>3.00</td>\n",
       "      <td>2.80</td>\n",
       "      <td>ya</td>\n",
       "      <td>NaN</td>\n",
       "    </tr>\n",
       "  </tbody>\n",
       "</table>\n",
       "<p>235 rows × 13 columns</p>\n",
       "</div>"
      ],
      "text/plain": [
       "        Nim                      Nama Jenis Kelamin  Usia Status Bekerja  \\\n",
       "0    202001              ABKA ZAILANI          Pria    25             ya   \n",
       "1    202002                 ADI YUDHA          Pria    21          tidak   \n",
       "2    202003                     ALDHI          Pria    22          tidak   \n",
       "3    202004       AVRINA NARA EGYTIAN        Wanita    26          tidak   \n",
       "4    202005             DODI SETIAWAN          Pria    22          tidak   \n",
       "..      ...                       ...           ...   ...            ...   \n",
       "230  202322       RINALDI KRISTIYANTO          Pria    22             ya   \n",
       "231  202323      RIZKI RIZALDI TAUFIK          Pria    26             ya   \n",
       "232  202324                 RUDIYANTO          Pria    29             ya   \n",
       "233  202325  TIWI YUNIARTI ANUGRAHANI        Wanita    28             ya   \n",
       "234  202326  YUSUF AGUNG ABDURRACHMAN          Pria    28             ya   \n",
       "\n",
       "     IPK semester 2  IPK semester 3  IPK semester 4  IPK semester 5  \\\n",
       "0              3.45            2.45            2.75            3.00   \n",
       "1              3.45            2.76            2.90            2.45   \n",
       "2              3.20            3.00            2.45            2.00   \n",
       "3              3.61            3.14            2.76            2.70   \n",
       "4              3.00            2.75            2.12            2.90   \n",
       "..              ...             ...             ...             ...   \n",
       "230            3.00            2.90            3.00            2.78   \n",
       "231            3.00            3.00            2.45            3.24   \n",
       "232            3.00            3.13            2.00            2.80   \n",
       "233            2.45            2.98            2.70            2.57   \n",
       "234            2.00            3.00            2.90            2.80   \n",
       "\n",
       "     IPK semester 6  IPK semester 7 Lulus Tepat Waktu  Unnamed  \n",
       "0              2.45            3.70             tidak      0.0  \n",
       "1              2.76            3.70                ya      0.0  \n",
       "2              3.00            3.89                ya      0.0  \n",
       "3              3.14            2.67                ya      0.0  \n",
       "4              2.75            2.89             tidak      NaN  \n",
       "..              ...             ...               ...      ...  \n",
       "230            2.45            2.78                ya      NaN  \n",
       "231            2.00            3.24             tidak      NaN  \n",
       "232            2.70            2.80                ya      NaN  \n",
       "233            2.90            2.57                ya      NaN  \n",
       "234            3.00            2.80                ya      NaN  \n",
       "\n",
       "[235 rows x 13 columns]"
      ]
     },
     "execution_count": 2,
     "metadata": {},
     "output_type": "execute_result"
    }
   ],
   "source": [
    "dataset=pd.read_csv('./dataset/kelulusan-mhs.csv')\n",
    "dataset\n"
   ]
  },
  {
   "cell_type": "markdown",
   "id": "c0fbcaa4",
   "metadata": {
    "slideshow": {
     "slide_type": "slide"
    }
   },
   "source": [
    "## Menampilkan Informasi Data\n",
    "- Dilakukan untuk mengetahui informasi didalam dataset terkait dengan feature/atribut/kolom yang ada didalam dataset, terkait dengan nama feature, tipe data sebuah feature dan dimensi dari dataset tersebut"
   ]
  },
  {
   "cell_type": "code",
   "execution_count": 3,
   "id": "81b9fb23",
   "metadata": {
    "slideshow": {
     "slide_type": "slide"
    }
   },
   "outputs": [
    {
     "name": "stdout",
     "output_type": "stream",
     "text": [
      "<class 'pandas.core.frame.DataFrame'>\n",
      "RangeIndex: 235 entries, 0 to 234\n",
      "Data columns (total 13 columns):\n",
      " #   Column             Non-Null Count  Dtype  \n",
      "---  ------             --------------  -----  \n",
      " 0   Nim                235 non-null    int64  \n",
      " 1   Nama               235 non-null    object \n",
      " 2   Jenis Kelamin      233 non-null    object \n",
      " 3   Usia               235 non-null    int64  \n",
      " 4   Status Bekerja     235 non-null    object \n",
      " 5   IPK semester 2     235 non-null    float64\n",
      " 6   IPK semester 3     235 non-null    float64\n",
      " 7   IPK semester 4     235 non-null    float64\n",
      " 8   IPK semester 5     235 non-null    float64\n",
      " 9   IPK semester 6     235 non-null    float64\n",
      " 10  IPK semester 7     235 non-null    float64\n",
      " 11  Lulus Tepat Waktu  235 non-null    object \n",
      " 12  Unnamed            4 non-null      float64\n",
      "dtypes: float64(7), int64(2), object(4)\n",
      "memory usage: 24.0+ KB\n"
     ]
    }
   ],
   "source": [
    "#melihat informasi dataset\n",
    "dataset.info()\n"
   ]
  },
  {
   "cell_type": "code",
   "execution_count": 4,
   "id": "df3d0e77",
   "metadata": {
    "slideshow": {
     "slide_type": "slide"
    }
   },
   "outputs": [
    {
     "data": {
      "text/plain": [
       "(235, 13)"
      ]
     },
     "execution_count": 4,
     "metadata": {},
     "output_type": "execute_result"
    }
   ],
   "source": [
    "# melihat dimensi data\n",
    "dataset.shape\n"
   ]
  },
  {
   "cell_type": "markdown",
   "id": "cc722ed8",
   "metadata": {
    "slideshow": {
     "slide_type": "slide"
    }
   },
   "source": [
    "# Informasi Dataset\n",
    "- Dari proses di atas didapatkan informasi terkait dengan dataset kelulusan mahasiswa, dimana dataset tersebut memiliki dimensi 235 baris data dan 13 kolom, dengan rincian informasi setiap kolom adalah\n",
    "1.   Nim                235 non-null    int64  \n",
    "2.   Nama               235 non-null    object \n",
    "3.   Jenis Kelamin      233 non-null    object \n",
    "4.  Usia               235 non-null    int64  \n",
    "5.  Status Bekerja     235 non-null    object \n",
    "6.  IPK semester 2     235 non-null    float64\n",
    "7.  IPK semester 3     235 non-null    float64\n",
    "8.  IPK semester 4     235 non-null    float64\n",
    "9.  IPK semester 5     235 non-null    float64\n",
    "10. IPK semester 6     235 non-null    float64\n",
    "11. IPK semester 7     235 non-null    float64\n",
    "12. Lulus Tepat Waktu  235 non-null    object \n",
    "13. Unnamed            4 non-null      float64\n",
    "- Dari 13 kolom tersebut terdapat 7 kolom dengan tipe data float64, 2 kolom dengan tipe data int64, dan 4 kolom dengan tipe data object"
   ]
  },
  {
   "cell_type": "markdown",
   "id": "6a2b5dbe",
   "metadata": {},
   "source": [
    "# Statistik Data\n",
    "- Dilakukan untuk mengetahui statistik data untuk setiap kolom yang bersifat numerik\n",
    "- Lakukan untuk semua kolom/feature yang bersifat numerik"
   ]
  },
  {
   "cell_type": "code",
   "execution_count": 5,
   "id": "3c9f2a93",
   "metadata": {
    "slideshow": {
     "slide_type": "slide"
    }
   },
   "outputs": [
    {
     "data": {
      "text/html": [
       "<div>\n",
       "<style scoped>\n",
       "    .dataframe tbody tr th:only-of-type {\n",
       "        vertical-align: middle;\n",
       "    }\n",
       "\n",
       "    .dataframe tbody tr th {\n",
       "        vertical-align: top;\n",
       "    }\n",
       "\n",
       "    .dataframe thead th {\n",
       "        text-align: right;\n",
       "    }\n",
       "</style>\n",
       "<table border=\"1\" class=\"dataframe\">\n",
       "  <thead>\n",
       "    <tr style=\"text-align: right;\">\n",
       "      <th></th>\n",
       "      <th>Nim</th>\n",
       "      <th>Usia</th>\n",
       "      <th>IPK semester 2</th>\n",
       "      <th>IPK semester 3</th>\n",
       "      <th>IPK semester 4</th>\n",
       "      <th>IPK semester 5</th>\n",
       "      <th>IPK semester 6</th>\n",
       "      <th>IPK semester 7</th>\n",
       "      <th>Unnamed</th>\n",
       "    </tr>\n",
       "  </thead>\n",
       "  <tbody>\n",
       "    <tr>\n",
       "      <th>count</th>\n",
       "      <td>235.000000</td>\n",
       "      <td>235.000000</td>\n",
       "      <td>235.000000</td>\n",
       "      <td>235.000000</td>\n",
       "      <td>235.000000</td>\n",
       "      <td>235.000000</td>\n",
       "      <td>235.000000</td>\n",
       "      <td>235.000000</td>\n",
       "      <td>4.0</td>\n",
       "    </tr>\n",
       "    <tr>\n",
       "      <th>mean</th>\n",
       "      <td>202166.370213</td>\n",
       "      <td>24.842553</td>\n",
       "      <td>2.861617</td>\n",
       "      <td>2.832723</td>\n",
       "      <td>2.824213</td>\n",
       "      <td>2.838596</td>\n",
       "      <td>2.829234</td>\n",
       "      <td>2.862085</td>\n",
       "      <td>0.0</td>\n",
       "    </tr>\n",
       "    <tr>\n",
       "      <th>std</th>\n",
       "      <td>109.361214</td>\n",
       "      <td>3.275899</td>\n",
       "      <td>0.371414</td>\n",
       "      <td>0.346561</td>\n",
       "      <td>0.342830</td>\n",
       "      <td>0.362605</td>\n",
       "      <td>0.345383</td>\n",
       "      <td>0.365007</td>\n",
       "      <td>0.0</td>\n",
       "    </tr>\n",
       "    <tr>\n",
       "      <th>min</th>\n",
       "      <td>202001.000000</td>\n",
       "      <td>21.000000</td>\n",
       "      <td>2.000000</td>\n",
       "      <td>2.000000</td>\n",
       "      <td>2.000000</td>\n",
       "      <td>2.000000</td>\n",
       "      <td>2.000000</td>\n",
       "      <td>2.000000</td>\n",
       "      <td>0.0</td>\n",
       "    </tr>\n",
       "    <tr>\n",
       "      <th>25%</th>\n",
       "      <td>202059.500000</td>\n",
       "      <td>22.000000</td>\n",
       "      <td>2.670000</td>\n",
       "      <td>2.670000</td>\n",
       "      <td>2.685000</td>\n",
       "      <td>2.670000</td>\n",
       "      <td>2.670000</td>\n",
       "      <td>2.670000</td>\n",
       "      <td>0.0</td>\n",
       "    </tr>\n",
       "    <tr>\n",
       "      <th>50%</th>\n",
       "      <td>202208.000000</td>\n",
       "      <td>25.000000</td>\n",
       "      <td>2.900000</td>\n",
       "      <td>2.900000</td>\n",
       "      <td>2.900000</td>\n",
       "      <td>2.900000</td>\n",
       "      <td>2.800000</td>\n",
       "      <td>2.900000</td>\n",
       "      <td>0.0</td>\n",
       "    </tr>\n",
       "    <tr>\n",
       "      <th>75%</th>\n",
       "      <td>202266.500000</td>\n",
       "      <td>28.000000</td>\n",
       "      <td>3.000000</td>\n",
       "      <td>3.000000</td>\n",
       "      <td>3.000000</td>\n",
       "      <td>3.000000</td>\n",
       "      <td>3.000000</td>\n",
       "      <td>3.000000</td>\n",
       "      <td>0.0</td>\n",
       "    </tr>\n",
       "    <tr>\n",
       "      <th>max</th>\n",
       "      <td>202326.000000</td>\n",
       "      <td>31.000000</td>\n",
       "      <td>3.900000</td>\n",
       "      <td>3.780000</td>\n",
       "      <td>3.780000</td>\n",
       "      <td>3.900000</td>\n",
       "      <td>3.780000</td>\n",
       "      <td>3.890000</td>\n",
       "      <td>0.0</td>\n",
       "    </tr>\n",
       "  </tbody>\n",
       "</table>\n",
       "</div>"
      ],
      "text/plain": [
       "                 Nim        Usia  IPK semester 2  IPK semester 3  \\\n",
       "count     235.000000  235.000000      235.000000      235.000000   \n",
       "mean   202166.370213   24.842553        2.861617        2.832723   \n",
       "std       109.361214    3.275899        0.371414        0.346561   \n",
       "min    202001.000000   21.000000        2.000000        2.000000   \n",
       "25%    202059.500000   22.000000        2.670000        2.670000   \n",
       "50%    202208.000000   25.000000        2.900000        2.900000   \n",
       "75%    202266.500000   28.000000        3.000000        3.000000   \n",
       "max    202326.000000   31.000000        3.900000        3.780000   \n",
       "\n",
       "       IPK semester 4  IPK semester 5  IPK semester 6  IPK semester 7  Unnamed  \n",
       "count      235.000000      235.000000      235.000000      235.000000      4.0  \n",
       "mean         2.824213        2.838596        2.829234        2.862085      0.0  \n",
       "std          0.342830        0.362605        0.345383        0.365007      0.0  \n",
       "min          2.000000        2.000000        2.000000        2.000000      0.0  \n",
       "25%          2.685000        2.670000        2.670000        2.670000      0.0  \n",
       "50%          2.900000        2.900000        2.800000        2.900000      0.0  \n",
       "75%          3.000000        3.000000        3.000000        3.000000      0.0  \n",
       "max          3.780000        3.900000        3.780000        3.890000      0.0  "
      ]
     },
     "execution_count": 5,
     "metadata": {},
     "output_type": "execute_result"
    }
   ],
   "source": [
    "#menampilkan Statistik dataset (kolom dengan tipe numerik)\n",
    "dataset.describe()"
   ]
  },
  {
   "cell_type": "markdown",
   "id": "0e456891",
   "metadata": {
    "slideshow": {
     "slide_type": "slide"
    }
   },
   "source": [
    "# Data Statistik\n",
    "- Dari data statistik tersebut kita dapat melihat informasi menyeluruh terhadap semua kolom pada dataset yang bersifat numerik (float & int)\n",
    "- informasi statistik tersebut terkait dengan:\n",
    "1. count= jumlah baris data didalam kolom\n",
    "2. mean = jumlah rata-rata setiap kolom\n",
    "3. std = standart deviasi dari setiap kolomnya\n",
    "4. min = nilai terkecil dari setiap kolom\n",
    "5. 25% = nilai quartile 1 dari sebuah kolom\n",
    "6. 50% = nilai quartile 2 dari sebuah kolom\n",
    "7. 75% = nilai quartile 3 dari sebuah kolom\n",
    "8. max = nilai terbesar dari setiap kolom"
   ]
  },
  {
   "cell_type": "markdown",
   "id": "679ab53a",
   "metadata": {
    "slideshow": {
     "slide_type": "slide"
    }
   },
   "source": [
    "## Data Statistik Setiap Kolom\n",
    "- Dilakukan untuk mengetahui lebih detail terkait dengan data statistik didalam sebuah kolom\n",
    "- dilakukan secara menyeluruh untuk semua kolom didalam dataset"
   ]
  },
  {
   "cell_type": "markdown",
   "id": "1aa88475",
   "metadata": {
    "slideshow": {
     "slide_type": "slide"
    }
   },
   "source": [
    "- 1. MENAMPILKAN DATA STATISTIK PADA KOLOM NUMERIK"
   ]
  },
  {
   "cell_type": "code",
   "execution_count": 6,
   "id": "fb542cae",
   "metadata": {
    "slideshow": {
     "slide_type": "slide"
    }
   },
   "outputs": [
    {
     "data": {
      "text/plain": [
       "count    235.0\n",
       "mean      25.0\n",
       "std        3.0\n",
       "min       21.0\n",
       "25%       22.0\n",
       "50%       25.0\n",
       "75%       28.0\n",
       "max       31.0\n",
       "Name: Usia, dtype: float64"
      ]
     },
     "execution_count": 6,
     "metadata": {},
     "output_type": "execute_result"
    }
   ],
   "source": [
    "# Menampilkan Data statistik pada sebuah kolom numerik\n",
    "dataset['Usia'].describe().round(0)"
   ]
  },
  {
   "cell_type": "markdown",
   "id": "10a6ff63",
   "metadata": {
    "slideshow": {
     "slide_type": "slide"
    }
   },
   "source": [
    "- Dari data statistik pada kolom usia tersebut didalamkan informasi terkait dengan pola data didalam kolom usia, yaitu:\n",
    "1. Terdapat 235 baris data didalam kolom usia\n",
    "2. Rata-rata usia adalah 24.84\n",
    "3. Dengan standar deviasi sebesar 3.27\n",
    "4. Rentang usia terendah/ minimal adalah 21 tahun\n",
    "5. Rentang nilai terbesar/maksimal adalah 31 tahun\n",
    " - NOTED:: lakukan terhadap semua kolom yang bersifat numerik..!"
   ]
  },
  {
   "cell_type": "markdown",
   "id": "8bbd97a3",
   "metadata": {
    "slideshow": {
     "slide_type": "slide"
    }
   },
   "source": [
    "- 2. MENAMPILKAN DATA STATISTIK PADA KOLOM KATEGORIKAL"
   ]
  },
  {
   "cell_type": "code",
   "execution_count": 7,
   "id": "83df6c71",
   "metadata": {
    "slideshow": {
     "slide_type": "slide"
    }
   },
   "outputs": [
    {
     "data": {
      "text/plain": [
       "count     235\n",
       "unique      2\n",
       "top        ya\n",
       "freq      126\n",
       "Name: Lulus Tepat Waktu, dtype: object"
      ]
     },
     "execution_count": 7,
     "metadata": {},
     "output_type": "execute_result"
    }
   ],
   "source": [
    "# Menampilkan Data statistik pada sebuah kolom Kategorikal\n",
    "dataset['Lulus Tepat Waktu'].describe()"
   ]
  },
  {
   "cell_type": "markdown",
   "id": "5afbb92d",
   "metadata": {
    "slideshow": {
     "slide_type": "slide"
    }
   },
   "source": [
    "- Dari data statistik pada kolom Lulus Tepat Waktu(Kelulusan) tersebut didalamkan informasi terkait dengan pola data didalam kolom tersebut, yaitu:\n",
    "1. Terdapat 235 baris data didalam kolom tersebut\n",
    "2. Terdapat 2 tipe kategori didalamnya\n",
    "3. Dimana kategori yang paling banyak adalah kategori ya standar deviasi sebesar 3.27\n",
    "4. Frekuensi Kemunculan kategori ya sebanyak 126 kali dari total 235 baris data\n",
    " - NOTED:: lakukan terhadap semua kolom yang bersifat kategorikal..!\n",
    " - untuk tipe kategorikal, informasi akan lebih lengkap data jelas, dengan melihat data unik dari setiap kolom dan juga frekuensi kemunculan setiap kategori didalam kolom tersebut"
   ]
  },
  {
   "cell_type": "markdown",
   "id": "127a9fe7",
   "metadata": {
    "slideshow": {
     "slide_type": "slide"
    }
   },
   "source": [
    "# Menampilkan Data Unique\n",
    "- dilakukan untuk melihat/menampilkan kategori data yang terdapat pada sebuah kolom/feature yang berifat kategorikal/ordinal\n",
    "- lakukan untuk semua kolom/feature yang bersifat kategorikal"
   ]
  },
  {
   "cell_type": "code",
   "execution_count": 8,
   "id": "47441fa7",
   "metadata": {
    "slideshow": {
     "slide_type": "slide"
    }
   },
   "outputs": [
    {
     "data": {
      "text/plain": [
       "array(['tidak', 'ya'], dtype=object)"
      ]
     },
     "execution_count": 8,
     "metadata": {},
     "output_type": "execute_result"
    }
   ],
   "source": [
    "#menampilkan kategori data yang unique(tanpa duplikat)\n",
    "dataset['Lulus Tepat Waktu'].unique()"
   ]
  },
  {
   "cell_type": "code",
   "execution_count": 9,
   "id": "68804573",
   "metadata": {
    "slideshow": {
     "slide_type": "slide"
    }
   },
   "outputs": [
    {
     "name": "stdout",
     "output_type": "stream",
     "text": [
      "ya       141\n",
      "tidak     94\n",
      "Name: Status Bekerja, dtype: int64\n"
     ]
    },
    {
     "data": {
      "text/plain": [
       "array(['ya', 'tidak'], dtype=object)"
      ]
     },
     "execution_count": 9,
     "metadata": {},
     "output_type": "execute_result"
    }
   ],
   "source": [
    "print(dataset['Status Bekerja'].value_counts())\n",
    "dataset['Status Bekerja'].unique()"
   ]
  },
  {
   "cell_type": "markdown",
   "id": "c18f88ab",
   "metadata": {
    "slideshow": {
     "slide_type": "slide"
    }
   },
   "source": [
    "- Dari analisa data diatas dapat dilihat bahwa:\n",
    "1. kolom Lulus Tepat Waktu memiliki 2 kategori yaitu kategori YA (lulus tepat waktu) dan kategori TIDAK (lulus tepat waktu)\n",
    "2. kolom Status Bekerja memiliki 2 kategori yaitu kategori YA (Bekerja) dan kategori TIDAK (Bekerja)"
   ]
  },
  {
   "cell_type": "code",
   "execution_count": 10,
   "id": "b74753c0",
   "metadata": {
    "slideshow": {
     "slide_type": "slide"
    }
   },
   "outputs": [
    {
     "data": {
      "text/plain": [
       "ya       126\n",
       "tidak    109\n",
       "Name: Lulus Tepat Waktu, dtype: int64"
      ]
     },
     "execution_count": 10,
     "metadata": {},
     "output_type": "execute_result"
    }
   ],
   "source": [
    "#Menampilkan frekuensi kemunculan data pada sebuah kolom\n",
    "dataset['Lulus Tepat Waktu'].value_counts()"
   ]
  },
  {
   "cell_type": "markdown",
   "id": "adcbc610",
   "metadata": {
    "slideshow": {
     "slide_type": "slide"
    }
   },
   "source": [
    "- Dari analisa data pada kolom Lulus Tepat Waktu diatas dapat informasi:\n",
    "1. Dari total 235 baris data, frekuensi kemunculan kategori YA (lulus tepat waktu) sebanyak 126 data dan untuk kategori TIDAK (lulus tepat waktu) sebanyak 109 data"
   ]
  },
  {
   "cell_type": "code",
   "execution_count": 11,
   "id": "830f10b4",
   "metadata": {
    "slideshow": {
     "slide_type": "slide"
    }
   },
   "outputs": [
    {
     "data": {
      "text/plain": [
       "21    56\n",
       "22    41\n",
       "28    30\n",
       "26    24\n",
       "30    24\n",
       "27    20\n",
       "25    14\n",
       "24    10\n",
       "29     9\n",
       "23     4\n",
       "31     3\n",
       "Name: Usia, dtype: int64"
      ]
     },
     "execution_count": 11,
     "metadata": {},
     "output_type": "execute_result"
    }
   ],
   "source": [
    "dataset['Usia'].value_counts()"
   ]
  },
  {
   "cell_type": "markdown",
   "id": "16dba874",
   "metadata": {
    "slideshow": {
     "slide_type": "slide"
    }
   },
   "source": [
    "- Dari analisa data pada kolom Usia diatas dapat informasi:\n",
    "- Dari total 235 baris data\n",
    "1. terdapat mahasiswa dengan usia 21 tahun sebanyak 56 orang (data)\n",
    "2. terdapat mahasiswa dengan usia 22 tahun sebanyak 41 orang (data)\n",
    "3. terdapat mahasiswa dengan usia 28 tahun sebanyak 30 orang (data)\n",
    "4. terdapat mahasiswa dengan usia 26 tahun sebanyak 24 orang (data)\n",
    "5. terdapat mahasiswa dengan usia 30 tahun sebanyak 24 orang (data)\n",
    "6. terdapat mahasiswa dengan usia 27 tahun sebanyak 20 orang (data)\n",
    "7. terdapat mahasiswa dengan usia 25 tahun sebanyak 14 orang (data)\n",
    "8. terdapat mahasiswa dengan usia 24 tahun sebanyak 10 orang (data)\n",
    "9. terdapat mahasiswa dengan usia 29 tahun sebanyak 9 orang (data)\n",
    "10. terdapat mahasiswa dengan usia 23 tahun sebanyak 4 orang (data)\n",
    "11. terdapat mahasiswa dengan usia 31 tahun sebanyak 3 orang (data)"
   ]
  },
  {
   "cell_type": "markdown",
   "id": "7c2dc334",
   "metadata": {
    "slideshow": {
     "slide_type": "slide"
    }
   },
   "source": [
    "### Berdasarkan Analisa di atas\n",
    "- Didapatkan informasi bahwa, dataset ini terdiri dari 235 baris(data) dan 12 kolom yang berisi informasi mahasiswa, termasuk kolom label/class/target \"Lulus Tepat Waktu\" yang menunjukkan apakah mahasiswa tersebut berhasil lulus tepat waktu atau tidak. lebih detail informasi terkait dataset ini, adalah sebagai berikut:\n",
    "1. Nim : ID unik untuk setiap mahasiswa\n",
    "2. Nama : nama dari setiap mahasiswa terdaftar\n",
    "3. gender : Jenis kelamin mahasiswa (Pria/Wanita)\n",
    "4. Usia : Menunjukkan usia setiap mahasiswa dalam satuan tahun(min = 21 tahun, mak=31 tahun)\n",
    "5. Status Bekerja : Menunjukkan apakah mahasiswa memiliki status bekerja (Ya, tidak)\n",
    "6. IPK semester2 : Menunjukkan nilai IPK setiap mahasiswa disemester 2\n",
    "7. IPK semester3 : Menunjukkan nilai IPK setiap mahasiswa disemester 3\n",
    "8. IPK semester4 : Menunjukkan nilai IPK setiap mahasiswa disemester 4\n",
    "9. IPK semester5 : Menunjukkan nilai IPK setiap mahasiswa disemester 5\n",
    "10. IPK semester6 : Menunjukkan nilai IPK setiap mahasiswa disemester 6\n",
    "11. lulus tepat waktu : Menunjukkan apakah lulus tepat waktu atau tidak (Ya, tidak)\n",
    "12. Unnamed : kolom ini merupakan sebuah kolom yang tidak valid/kesalahan"
   ]
  },
  {
   "cell_type": "markdown",
   "id": "f6c20a3f",
   "metadata": {
    "slideshow": {
     "slide_type": "slide"
    }
   },
   "source": [
    "### Uraikan Detail Satistik dan Frekuensi Kemunculan Data pada setiap kolom/feature\n",
    "- dari dataset diatas, dapat diketahui bahwa untuk menentukan mahasiswa dapat lulus tepat waktu atau tidak, dapat di pengaruhi oleh\n",
    "- NOTED :: LAKUKAN URAIKAN SECARA DETAIL TENTANG KOLOM BERIKUT INI TERKAIT DENGAN FREKUENSI KEMUNCULAN SETIAP NILAI?KATEGORI DISETIAP KOLOM TERSEBUT....!!!\n",
    "1. gender : Jenis kelamin mahasiswa (Pria/Wanita)\n",
    "2. Usia : Menunjukkan usia setiap mahasiswa dalam satuan tahun(min = 21 tahun, mak=31 tahun)\n",
    "3. Status Bekerja : Menunjukkan apakah mahasiswa memiliki status bekerja (Ya, tidak)\n",
    "4. IPK semester2 : Menunjukkan nilai IPK setiap mahasiswa disemester 2\n",
    "5. IPK semester3 : Menunjukkan nilai IPK setiap mahasiswa disemester 3\n",
    "6. IPK semester4 : Menunjukkan nilai IPK setiap mahasiswa disemester 4\n",
    "7. IPK semester5 : Menunjukkan nilai IPK setiap mahasiswa disemester 5\n",
    "8. IPK semester6 : Menunjukkan nilai IPK setiap mahasiswa disemester 6\n",
    "9. lulus tepat waktu : Menunjukkan apakah lulus tepat waktu atau tidak (Ya, tidak)"
   ]
  },
  {
   "cell_type": "markdown",
   "id": "4517dad4",
   "metadata": {
    "slideshow": {
     "slide_type": "slide"
    }
   },
   "source": [
    "# PreProcessing Data\n",
    "- menghapus kolom yang tidak di perlukan\n",
    "- menghapus Missing Value & Outlier\n",
    "- menghapus duplikat data"
   ]
  },
  {
   "cell_type": "markdown",
   "id": "55ebb52e",
   "metadata": {
    "slideshow": {
     "slide_type": "slide"
    }
   },
   "source": [
    "#### 1. Menghapus Kolom\n",
    "- Dari info diatas terlihat bahwa terdapat kolom tanpa nama/unnamed dengan tipe data float64\n",
    "- kolom/feature tersebut merupakan kolom yang biasanya tercipta dari kesalahan penyimpanan ataupun kesalahan input\n",
    "- kolom/feature tersebut harus dihapus dari dataframe yang akan digunakan"
   ]
  },
  {
   "cell_type": "code",
   "execution_count": 12,
   "id": "a5cafb69",
   "metadata": {
    "slideshow": {
     "slide_type": "slide"
    }
   },
   "outputs": [
    {
     "name": "stdout",
     "output_type": "stream",
     "text": [
      "<class 'pandas.core.frame.DataFrame'>\n",
      "RangeIndex: 235 entries, 0 to 234\n",
      "Data columns (total 13 columns):\n",
      " #   Column             Non-Null Count  Dtype  \n",
      "---  ------             --------------  -----  \n",
      " 0   Nim                235 non-null    int64  \n",
      " 1   Nama               235 non-null    object \n",
      " 2   Jenis Kelamin      233 non-null    object \n",
      " 3   Usia               235 non-null    int64  \n",
      " 4   Status Bekerja     235 non-null    object \n",
      " 5   IPK semester 2     235 non-null    float64\n",
      " 6   IPK semester 3     235 non-null    float64\n",
      " 7   IPK semester 4     235 non-null    float64\n",
      " 8   IPK semester 5     235 non-null    float64\n",
      " 9   IPK semester 6     235 non-null    float64\n",
      " 10  IPK semester 7     235 non-null    float64\n",
      " 11  Lulus Tepat Waktu  235 non-null    object \n",
      " 12  Unnamed            4 non-null      float64\n",
      "dtypes: float64(7), int64(2), object(4)\n",
      "memory usage: 24.0+ KB\n"
     ]
    }
   ],
   "source": [
    "dataset.info()"
   ]
  },
  {
   "cell_type": "code",
   "execution_count": 13,
   "id": "1d688415",
   "metadata": {
    "slideshow": {
     "slide_type": "slide"
    }
   },
   "outputs": [
    {
     "data": {
      "text/html": [
       "<div>\n",
       "<style scoped>\n",
       "    .dataframe tbody tr th:only-of-type {\n",
       "        vertical-align: middle;\n",
       "    }\n",
       "\n",
       "    .dataframe tbody tr th {\n",
       "        vertical-align: top;\n",
       "    }\n",
       "\n",
       "    .dataframe thead th {\n",
       "        text-align: right;\n",
       "    }\n",
       "</style>\n",
       "<table border=\"1\" class=\"dataframe\">\n",
       "  <thead>\n",
       "    <tr style=\"text-align: right;\">\n",
       "      <th></th>\n",
       "      <th>Nim</th>\n",
       "      <th>Nama</th>\n",
       "      <th>Jenis Kelamin</th>\n",
       "      <th>Usia</th>\n",
       "      <th>Status Bekerja</th>\n",
       "      <th>IPK semester 2</th>\n",
       "      <th>IPK semester 3</th>\n",
       "      <th>IPK semester 4</th>\n",
       "      <th>IPK semester 5</th>\n",
       "      <th>IPK semester 6</th>\n",
       "      <th>IPK semester 7</th>\n",
       "      <th>Lulus Tepat Waktu</th>\n",
       "    </tr>\n",
       "  </thead>\n",
       "  <tbody>\n",
       "    <tr>\n",
       "      <th>0</th>\n",
       "      <td>202001</td>\n",
       "      <td>ABKA ZAILANI</td>\n",
       "      <td>Pria</td>\n",
       "      <td>25</td>\n",
       "      <td>ya</td>\n",
       "      <td>3.45</td>\n",
       "      <td>2.45</td>\n",
       "      <td>2.75</td>\n",
       "      <td>3.00</td>\n",
       "      <td>2.45</td>\n",
       "      <td>3.7</td>\n",
       "      <td>tidak</td>\n",
       "    </tr>\n",
       "    <tr>\n",
       "      <th>1</th>\n",
       "      <td>202002</td>\n",
       "      <td>ADI YUDHA</td>\n",
       "      <td>Pria</td>\n",
       "      <td>21</td>\n",
       "      <td>tidak</td>\n",
       "      <td>3.45</td>\n",
       "      <td>2.76</td>\n",
       "      <td>2.90</td>\n",
       "      <td>2.45</td>\n",
       "      <td>2.76</td>\n",
       "      <td>3.7</td>\n",
       "      <td>ya</td>\n",
       "    </tr>\n",
       "  </tbody>\n",
       "</table>\n",
       "</div>"
      ],
      "text/plain": [
       "      Nim          Nama Jenis Kelamin  Usia Status Bekerja  IPK semester 2  \\\n",
       "0  202001  ABKA ZAILANI          Pria    25             ya            3.45   \n",
       "1  202002     ADI YUDHA          Pria    21          tidak            3.45   \n",
       "\n",
       "   IPK semester 3  IPK semester 4  IPK semester 5  IPK semester 6  \\\n",
       "0            2.45            2.75            3.00            2.45   \n",
       "1            2.76            2.90            2.45            2.76   \n",
       "\n",
       "   IPK semester 7 Lulus Tepat Waktu  \n",
       "0             3.7             tidak  \n",
       "1             3.7                ya  "
      ]
     },
     "execution_count": 13,
     "metadata": {},
     "output_type": "execute_result"
    }
   ],
   "source": [
    "# Menghapus kolom yang tidak diperlukan\n",
    "df = dataset.drop('Unnamed', axis=1)\n",
    "df.head(2)"
   ]
  },
  {
   "cell_type": "markdown",
   "id": "7e0cb81e",
   "metadata": {
    "slideshow": {
     "slide_type": "slide"
    }
   },
   "source": [
    "#### 2. Mengecek dan Menghapus Missing Value\n",
    "- Merupakan data-data yang tidak memiliki nilai (tidak tersedia nilainya- not available(NaN))\n",
    "- Biasa terjadi akibat adanya kesalahan input, cacat software ataupun gangguan jaringan\n",
    "- Biasa terjadi pada tipe data numerik dan kategori(nominal)"
   ]
  },
  {
   "cell_type": "code",
   "execution_count": 14,
   "id": "43a83b1a",
   "metadata": {
    "slideshow": {
     "slide_type": "slide"
    }
   },
   "outputs": [
    {
     "data": {
      "text/plain": [
       "Nim                  0\n",
       "Nama                 0\n",
       "Jenis Kelamin        2\n",
       "Usia                 0\n",
       "Status Bekerja       0\n",
       "IPK semester 2       0\n",
       "IPK semester 3       0\n",
       "IPK semester 4       0\n",
       "IPK semester 5       0\n",
       "IPK semester 6       0\n",
       "IPK semester 7       0\n",
       "Lulus Tepat Waktu    0\n",
       "dtype: int64"
      ]
     },
     "execution_count": 14,
     "metadata": {},
     "output_type": "execute_result"
    }
   ],
   "source": [
    "# Cek Missing Value\n",
    "pd.isna(df).sum()"
   ]
  },
  {
   "cell_type": "code",
   "execution_count": 15,
   "id": "c676cbb2",
   "metadata": {},
   "outputs": [],
   "source": [
    "df1=df.dropna()"
   ]
  },
  {
   "cell_type": "code",
   "execution_count": 16,
   "id": "8dab6ff1",
   "metadata": {
    "slideshow": {
     "slide_type": "slide"
    }
   },
   "outputs": [
    {
     "data": {
      "text/plain": [
       "Nim                  0\n",
       "Nama                 0\n",
       "Jenis Kelamin        0\n",
       "Usia                 0\n",
       "Status Bekerja       0\n",
       "IPK semester 2       0\n",
       "IPK semester 3       0\n",
       "IPK semester 4       0\n",
       "IPK semester 5       0\n",
       "IPK semester 6       0\n",
       "IPK semester 7       0\n",
       "Lulus Tepat Waktu    0\n",
       "dtype: int64"
      ]
     },
     "execution_count": 16,
     "metadata": {},
     "output_type": "execute_result"
    }
   ],
   "source": [
    "pd.isna(df1).sum()# Cek Missing Value"
   ]
  },
  {
   "cell_type": "code",
   "execution_count": 17,
   "id": "4029ced7",
   "metadata": {},
   "outputs": [
    {
     "name": "stdout",
     "output_type": "stream",
     "text": [
      "<class 'pandas.core.frame.DataFrame'>\n",
      "Int64Index: 233 entries, 0 to 234\n",
      "Data columns (total 12 columns):\n",
      " #   Column             Non-Null Count  Dtype  \n",
      "---  ------             --------------  -----  \n",
      " 0   Nim                233 non-null    int64  \n",
      " 1   Nama               233 non-null    object \n",
      " 2   Jenis Kelamin      233 non-null    object \n",
      " 3   Usia               233 non-null    int64  \n",
      " 4   Status Bekerja     233 non-null    object \n",
      " 5   IPK semester 2     233 non-null    float64\n",
      " 6   IPK semester 3     233 non-null    float64\n",
      " 7   IPK semester 4     233 non-null    float64\n",
      " 8   IPK semester 5     233 non-null    float64\n",
      " 9   IPK semester 6     233 non-null    float64\n",
      " 10  IPK semester 7     233 non-null    float64\n",
      " 11  Lulus Tepat Waktu  233 non-null    object \n",
      "dtypes: float64(6), int64(2), object(4)\n",
      "memory usage: 23.7+ KB\n"
     ]
    }
   ],
   "source": [
    "df1.info()"
   ]
  },
  {
   "cell_type": "markdown",
   "id": "505d3c99",
   "metadata": {
    "slideshow": {
     "slide_type": "slide"
    }
   },
   "source": [
    "- Dari dataset tersebut terlihat bahwa dataset tersebut tidak terdapat data yang Missing Value"
   ]
  },
  {
   "cell_type": "markdown",
   "id": "f7d4e22d",
   "metadata": {},
   "source": [
    "#### 2. Mengecek dan Menghapus data Outlier\n",
    "- Outlier merupakan nilai yang tidak lazim atau tidak logis\n",
    "- Biasa terjadi akibat adanya kesalahan input, cacat software ataupun gangguan jaringan\n",
    "- Biasa terjadi pada tipe data numerik dan kategori(nominal)\n",
    "- Dalam hal penanganannya utamakan kemampuan logika berpikir & analisa dasar, perhatikan bagian nilai minimum dan nilai maksimum suatu feature/kolom"
   ]
  },
  {
   "cell_type": "code",
   "execution_count": 18,
   "id": "3f02c858",
   "metadata": {
    "slideshow": {
     "slide_type": "slide"
    }
   },
   "outputs": [
    {
     "name": "stdout",
     "output_type": "stream",
     "text": [
      "21.0\n",
      "27.0\n",
      "12.0\n",
      "36.0\n"
     ]
    },
    {
     "data": {
      "text/html": [
       "<div>\n",
       "<style scoped>\n",
       "    .dataframe tbody tr th:only-of-type {\n",
       "        vertical-align: middle;\n",
       "    }\n",
       "\n",
       "    .dataframe tbody tr th {\n",
       "        vertical-align: top;\n",
       "    }\n",
       "\n",
       "    .dataframe thead th {\n",
       "        text-align: right;\n",
       "    }\n",
       "</style>\n",
       "<table border=\"1\" class=\"dataframe\">\n",
       "  <thead>\n",
       "    <tr style=\"text-align: right;\">\n",
       "      <th></th>\n",
       "      <th>Nim</th>\n",
       "      <th>Nama</th>\n",
       "      <th>Jenis Kelamin</th>\n",
       "      <th>Usia</th>\n",
       "      <th>Status Bekerja</th>\n",
       "      <th>IPK semester 2</th>\n",
       "      <th>IPK semester 3</th>\n",
       "      <th>IPK semester 4</th>\n",
       "      <th>IPK semester 5</th>\n",
       "      <th>IPK semester 6</th>\n",
       "      <th>IPK semester 7</th>\n",
       "      <th>Lulus Tepat Waktu</th>\n",
       "    </tr>\n",
       "  </thead>\n",
       "  <tbody>\n",
       "  </tbody>\n",
       "</table>\n",
       "</div>"
      ],
      "text/plain": [
       "Empty DataFrame\n",
       "Columns: [Nim, Nama, Jenis Kelamin, Usia, Status Bekerja, IPK semester 2, IPK semester 3, IPK semester 4, IPK semester 5, IPK semester 6, IPK semester 7, Lulus Tepat Waktu]\n",
       "Index: []"
      ]
     },
     "execution_count": 18,
     "metadata": {},
     "output_type": "execute_result"
    }
   ],
   "source": [
    "# penanganan nilai outlier dilkakukan jika ada indikasi outlier pada sebuah kolom\n",
    "# Dengan Menggunakan Inter Quartil Rate\n",
    "q1 = df[\"Usia\"].quantile(0.05)\n",
    "q3 = df[\"Usia\"].quantile(0.65)\n",
    "print(q1)\n",
    "print(q3)\n",
    "iqr = q3-q1 #Interquartile range\n",
    "fence_low  = q1-1.5*iqr\n",
    "print(fence_low)\n",
    "fence_high = q3+1.5*iqr\n",
    "print(fence_high)\n",
    "df.loc[(df[\"Usia\"] < fence_low) | (df[\"Usia\"] > fence_high)]"
   ]
  },
  {
   "cell_type": "markdown",
   "id": "08e912f5",
   "metadata": {
    "slideshow": {
     "slide_type": "slide"
    }
   },
   "source": [
    "#### 3. Mengecek dan Menghapus Duplikat Data\n",
    "- Merupakan Data yang rangkap atau ddouble didalam sebuah kolom\n",
    "- Biasa terjadi akibat adanya kesalahan input, cacat software ataupun gangguan jaringan\n",
    "- Biasa terjadi pada tipe data numerik dan kategori(nominal)"
   ]
  },
  {
   "cell_type": "code",
   "execution_count": 19,
   "id": "bbe43514",
   "metadata": {
    "slideshow": {
     "slide_type": "slide"
    }
   },
   "outputs": [
    {
     "data": {
      "text/plain": [
       "0"
      ]
     },
     "execution_count": 19,
     "metadata": {},
     "output_type": "execute_result"
    }
   ],
   "source": [
    "# Cek Duplikat Data\n",
    "df.duplicated().sum()"
   ]
  },
  {
   "cell_type": "markdown",
   "id": "7b6c3c43",
   "metadata": {
    "slideshow": {
     "slide_type": "slide"
    }
   },
   "source": [
    "- Dari dataset tersebut terlihat bahwa dataset tersebut tidak terdapat data yang rangkap"
   ]
  },
  {
   "cell_type": "markdown",
   "id": "75d617a2",
   "metadata": {
    "slideshow": {
     "slide_type": "slide"
    }
   },
   "source": [
    "# Korelasi Antar Feature (input) terhadap Class(Output)\n",
    "- Digunakan untuk melihat hubungan atau kolerasi sebuah feature/atribut/kolom terhadapat label/class/target output yang diharapkan\n",
    "- Sebelum melakukan pengecekan Korelasi Data, maka semua data yang bersifat objek harus diubah bentuknya kedalam bentuk numerik/data transformation (one hot encoding & label encoding)\n",
    "- contoh \n",
    "1. tujuan pinjaman( pendidikan, pengobatan, personal)teknik one hot encoding, dibuat menjadi 3 kolom baru dengan nilai booelan(true(1)/false(0))\n",
    "2. tujuan pinjaman( pendidikan, pengobatan, personal) label encoding, tetap akan menjadi 1 kolom tujuan pinjaman, tetapi kategori yang diubah (pendidikan=1, pengobatan=2, personal=3)\n"
   ]
  },
  {
   "cell_type": "code",
   "execution_count": 20,
   "id": "a18fc309",
   "metadata": {
    "slideshow": {
     "slide_type": "slide"
    }
   },
   "outputs": [
    {
     "data": {
      "text/html": [
       "<div>\n",
       "<style scoped>\n",
       "    .dataframe tbody tr th:only-of-type {\n",
       "        vertical-align: middle;\n",
       "    }\n",
       "\n",
       "    .dataframe tbody tr th {\n",
       "        vertical-align: top;\n",
       "    }\n",
       "\n",
       "    .dataframe thead th {\n",
       "        text-align: right;\n",
       "    }\n",
       "</style>\n",
       "<table border=\"1\" class=\"dataframe\">\n",
       "  <thead>\n",
       "    <tr style=\"text-align: right;\">\n",
       "      <th></th>\n",
       "      <th>Jenis Kelamin</th>\n",
       "      <th>Usia</th>\n",
       "      <th>Status Bekerja</th>\n",
       "      <th>IPK semester 2</th>\n",
       "      <th>IPK semester 3</th>\n",
       "      <th>IPK semester 4</th>\n",
       "      <th>IPK semester 5</th>\n",
       "      <th>IPK semester 6</th>\n",
       "      <th>IPK semester 7</th>\n",
       "      <th>Lulus Tepat Waktu</th>\n",
       "    </tr>\n",
       "  </thead>\n",
       "  <tbody>\n",
       "    <tr>\n",
       "      <th>0</th>\n",
       "      <td>Pria</td>\n",
       "      <td>25</td>\n",
       "      <td>ya</td>\n",
       "      <td>3.45</td>\n",
       "      <td>2.45</td>\n",
       "      <td>2.75</td>\n",
       "      <td>3.00</td>\n",
       "      <td>2.45</td>\n",
       "      <td>3.70</td>\n",
       "      <td>tidak</td>\n",
       "    </tr>\n",
       "    <tr>\n",
       "      <th>1</th>\n",
       "      <td>Pria</td>\n",
       "      <td>21</td>\n",
       "      <td>tidak</td>\n",
       "      <td>3.45</td>\n",
       "      <td>2.76</td>\n",
       "      <td>2.90</td>\n",
       "      <td>2.45</td>\n",
       "      <td>2.76</td>\n",
       "      <td>3.70</td>\n",
       "      <td>ya</td>\n",
       "    </tr>\n",
       "    <tr>\n",
       "      <th>2</th>\n",
       "      <td>Pria</td>\n",
       "      <td>22</td>\n",
       "      <td>tidak</td>\n",
       "      <td>3.20</td>\n",
       "      <td>3.00</td>\n",
       "      <td>2.45</td>\n",
       "      <td>2.00</td>\n",
       "      <td>3.00</td>\n",
       "      <td>3.89</td>\n",
       "      <td>ya</td>\n",
       "    </tr>\n",
       "    <tr>\n",
       "      <th>3</th>\n",
       "      <td>Wanita</td>\n",
       "      <td>26</td>\n",
       "      <td>tidak</td>\n",
       "      <td>3.61</td>\n",
       "      <td>3.14</td>\n",
       "      <td>2.76</td>\n",
       "      <td>2.70</td>\n",
       "      <td>3.14</td>\n",
       "      <td>2.67</td>\n",
       "      <td>ya</td>\n",
       "    </tr>\n",
       "    <tr>\n",
       "      <th>4</th>\n",
       "      <td>Pria</td>\n",
       "      <td>22</td>\n",
       "      <td>tidak</td>\n",
       "      <td>3.00</td>\n",
       "      <td>2.75</td>\n",
       "      <td>2.12</td>\n",
       "      <td>2.90</td>\n",
       "      <td>2.75</td>\n",
       "      <td>2.89</td>\n",
       "      <td>tidak</td>\n",
       "    </tr>\n",
       "    <tr>\n",
       "      <th>5</th>\n",
       "      <td>Wanita</td>\n",
       "      <td>21</td>\n",
       "      <td>ya</td>\n",
       "      <td>3.13</td>\n",
       "      <td>2.90</td>\n",
       "      <td>2.98</td>\n",
       "      <td>3.90</td>\n",
       "      <td>2.90</td>\n",
       "      <td>2.56</td>\n",
       "      <td>ya</td>\n",
       "    </tr>\n",
       "    <tr>\n",
       "      <th>6</th>\n",
       "      <td>Pria</td>\n",
       "      <td>26</td>\n",
       "      <td>tidak</td>\n",
       "      <td>2.98</td>\n",
       "      <td>2.45</td>\n",
       "      <td>3.00</td>\n",
       "      <td>3.70</td>\n",
       "      <td>2.45</td>\n",
       "      <td>3.00</td>\n",
       "      <td>tidak</td>\n",
       "    </tr>\n",
       "    <tr>\n",
       "      <th>7</th>\n",
       "      <td>Pria</td>\n",
       "      <td>25</td>\n",
       "      <td>tidak</td>\n",
       "      <td>3.00</td>\n",
       "      <td>2.76</td>\n",
       "      <td>3.14</td>\n",
       "      <td>3.70</td>\n",
       "      <td>2.76</td>\n",
       "      <td>3.14</td>\n",
       "      <td>tidak</td>\n",
       "    </tr>\n",
       "    <tr>\n",
       "      <th>8</th>\n",
       "      <td>Pria</td>\n",
       "      <td>24</td>\n",
       "      <td>tidak</td>\n",
       "      <td>3.14</td>\n",
       "      <td>2.12</td>\n",
       "      <td>2.75</td>\n",
       "      <td>3.89</td>\n",
       "      <td>2.12</td>\n",
       "      <td>2.75</td>\n",
       "      <td>tidak</td>\n",
       "    </tr>\n",
       "    <tr>\n",
       "      <th>9</th>\n",
       "      <td>Pria</td>\n",
       "      <td>24</td>\n",
       "      <td>tidak</td>\n",
       "      <td>2.75</td>\n",
       "      <td>2.67</td>\n",
       "      <td>2.90</td>\n",
       "      <td>2.67</td>\n",
       "      <td>2.67</td>\n",
       "      <td>2.90</td>\n",
       "      <td>tidak</td>\n",
       "    </tr>\n",
       "  </tbody>\n",
       "</table>\n",
       "</div>"
      ],
      "text/plain": [
       "  Jenis Kelamin  Usia Status Bekerja  IPK semester 2  IPK semester 3  \\\n",
       "0          Pria    25             ya            3.45            2.45   \n",
       "1          Pria    21          tidak            3.45            2.76   \n",
       "2          Pria    22          tidak            3.20            3.00   \n",
       "3        Wanita    26          tidak            3.61            3.14   \n",
       "4          Pria    22          tidak            3.00            2.75   \n",
       "5        Wanita    21             ya            3.13            2.90   \n",
       "6          Pria    26          tidak            2.98            2.45   \n",
       "7          Pria    25          tidak            3.00            2.76   \n",
       "8          Pria    24          tidak            3.14            2.12   \n",
       "9          Pria    24          tidak            2.75            2.67   \n",
       "\n",
       "   IPK semester 4  IPK semester 5  IPK semester 6  IPK semester 7  \\\n",
       "0            2.75            3.00            2.45            3.70   \n",
       "1            2.90            2.45            2.76            3.70   \n",
       "2            2.45            2.00            3.00            3.89   \n",
       "3            2.76            2.70            3.14            2.67   \n",
       "4            2.12            2.90            2.75            2.89   \n",
       "5            2.98            3.90            2.90            2.56   \n",
       "6            3.00            3.70            2.45            3.00   \n",
       "7            3.14            3.70            2.76            3.14   \n",
       "8            2.75            3.89            2.12            2.75   \n",
       "9            2.90            2.67            2.67            2.90   \n",
       "\n",
       "  Lulus Tepat Waktu  \n",
       "0             tidak  \n",
       "1                ya  \n",
       "2                ya  \n",
       "3                ya  \n",
       "4             tidak  \n",
       "5                ya  \n",
       "6             tidak  \n",
       "7             tidak  \n",
       "8             tidak  \n",
       "9             tidak  "
      ]
     },
     "execution_count": 20,
     "metadata": {},
     "output_type": "execute_result"
    }
   ],
   "source": [
    "# Membuat dataframe baru dengan mengambil data-data dari dataframe lainnya\n",
    "df2=df1 [['Jenis Kelamin', 'Usia', 'Status Bekerja', 'IPK semester 2', 'IPK semester 3', 'IPK semester 4', 'IPK semester 5', \n",
    "         'IPK semester 6', 'IPK semester 7', 'Lulus Tepat Waktu']]\n",
    "df2.head(10)"
   ]
  },
  {
   "cell_type": "code",
   "execution_count": 21,
   "id": "6bfa06c4",
   "metadata": {
    "slideshow": {
     "slide_type": "slide"
    }
   },
   "outputs": [
    {
     "name": "stdout",
     "output_type": "stream",
     "text": [
      "<class 'pandas.core.frame.DataFrame'>\n",
      "Int64Index: 233 entries, 0 to 234\n",
      "Data columns (total 10 columns):\n",
      " #   Column             Non-Null Count  Dtype  \n",
      "---  ------             --------------  -----  \n",
      " 0   Jenis Kelamin      233 non-null    object \n",
      " 1   Usia               233 non-null    int64  \n",
      " 2   Status Bekerja     233 non-null    object \n",
      " 3   IPK semester 2     233 non-null    float64\n",
      " 4   IPK semester 3     233 non-null    float64\n",
      " 5   IPK semester 4     233 non-null    float64\n",
      " 6   IPK semester 5     233 non-null    float64\n",
      " 7   IPK semester 6     233 non-null    float64\n",
      " 8   IPK semester 7     233 non-null    float64\n",
      " 9   Lulus Tepat Waktu  233 non-null    object \n",
      "dtypes: float64(6), int64(1), object(3)\n",
      "memory usage: 20.0+ KB\n"
     ]
    }
   ],
   "source": [
    "df2.info()"
   ]
  },
  {
   "cell_type": "code",
   "execution_count": 22,
   "id": "201e8a61",
   "metadata": {
    "slideshow": {
     "slide_type": "slide"
    }
   },
   "outputs": [
    {
     "data": {
      "text/html": [
       "<div>\n",
       "<style scoped>\n",
       "    .dataframe tbody tr th:only-of-type {\n",
       "        vertical-align: middle;\n",
       "    }\n",
       "\n",
       "    .dataframe tbody tr th {\n",
       "        vertical-align: top;\n",
       "    }\n",
       "\n",
       "    .dataframe thead th {\n",
       "        text-align: right;\n",
       "    }\n",
       "</style>\n",
       "<table border=\"1\" class=\"dataframe\">\n",
       "  <thead>\n",
       "    <tr style=\"text-align: right;\">\n",
       "      <th></th>\n",
       "      <th>Jenis Kelamin</th>\n",
       "      <th>Usia</th>\n",
       "      <th>Status Bekerja</th>\n",
       "      <th>IPK semester 2</th>\n",
       "      <th>IPK semester 3</th>\n",
       "      <th>IPK semester 4</th>\n",
       "      <th>IPK semester 5</th>\n",
       "      <th>IPK semester 6</th>\n",
       "      <th>IPK semester 7</th>\n",
       "      <th>Lulus Tepat Waktu</th>\n",
       "    </tr>\n",
       "  </thead>\n",
       "  <tbody>\n",
       "    <tr>\n",
       "      <th>0</th>\n",
       "      <td>1</td>\n",
       "      <td>25</td>\n",
       "      <td>1</td>\n",
       "      <td>3.45</td>\n",
       "      <td>2.45</td>\n",
       "      <td>2.75</td>\n",
       "      <td>3.00</td>\n",
       "      <td>2.45</td>\n",
       "      <td>3.70</td>\n",
       "      <td>0</td>\n",
       "    </tr>\n",
       "    <tr>\n",
       "      <th>1</th>\n",
       "      <td>1</td>\n",
       "      <td>21</td>\n",
       "      <td>0</td>\n",
       "      <td>3.45</td>\n",
       "      <td>2.76</td>\n",
       "      <td>2.90</td>\n",
       "      <td>2.45</td>\n",
       "      <td>2.76</td>\n",
       "      <td>3.70</td>\n",
       "      <td>1</td>\n",
       "    </tr>\n",
       "    <tr>\n",
       "      <th>2</th>\n",
       "      <td>1</td>\n",
       "      <td>22</td>\n",
       "      <td>0</td>\n",
       "      <td>3.20</td>\n",
       "      <td>3.00</td>\n",
       "      <td>2.45</td>\n",
       "      <td>2.00</td>\n",
       "      <td>3.00</td>\n",
       "      <td>3.89</td>\n",
       "      <td>1</td>\n",
       "    </tr>\n",
       "    <tr>\n",
       "      <th>3</th>\n",
       "      <td>0</td>\n",
       "      <td>26</td>\n",
       "      <td>0</td>\n",
       "      <td>3.61</td>\n",
       "      <td>3.14</td>\n",
       "      <td>2.76</td>\n",
       "      <td>2.70</td>\n",
       "      <td>3.14</td>\n",
       "      <td>2.67</td>\n",
       "      <td>1</td>\n",
       "    </tr>\n",
       "    <tr>\n",
       "      <th>4</th>\n",
       "      <td>1</td>\n",
       "      <td>22</td>\n",
       "      <td>0</td>\n",
       "      <td>3.00</td>\n",
       "      <td>2.75</td>\n",
       "      <td>2.12</td>\n",
       "      <td>2.90</td>\n",
       "      <td>2.75</td>\n",
       "      <td>2.89</td>\n",
       "      <td>0</td>\n",
       "    </tr>\n",
       "  </tbody>\n",
       "</table>\n",
       "</div>"
      ],
      "text/plain": [
       "   Jenis Kelamin  Usia  Status Bekerja  IPK semester 2  IPK semester 3  \\\n",
       "0              1    25               1            3.45            2.45   \n",
       "1              1    21               0            3.45            2.76   \n",
       "2              1    22               0            3.20            3.00   \n",
       "3              0    26               0            3.61            3.14   \n",
       "4              1    22               0            3.00            2.75   \n",
       "\n",
       "   IPK semester 4  IPK semester 5  IPK semester 6  IPK semester 7  \\\n",
       "0            2.75            3.00            2.45            3.70   \n",
       "1            2.90            2.45            2.76            3.70   \n",
       "2            2.45            2.00            3.00            3.89   \n",
       "3            2.76            2.70            3.14            2.67   \n",
       "4            2.12            2.90            2.75            2.89   \n",
       "\n",
       "   Lulus Tepat Waktu  \n",
       "0                  0  \n",
       "1                  1  \n",
       "2                  1  \n",
       "3                  1  \n",
       "4                  0  "
      ]
     },
     "execution_count": 22,
     "metadata": {},
     "output_type": "execute_result"
    }
   ],
   "source": [
    "#mengubah bentuk data dari object ke numerik\n",
    "df2.replace({'Pria': 1, 'Wanita': 0, 'ya':1, 'tidak':0},inplace=True)\n",
    "df2.head()"
   ]
  },
  {
   "cell_type": "markdown",
   "id": "df08640d",
   "metadata": {
    "slideshow": {
     "slide_type": "slide"
    }
   },
   "source": [
    "##### Mengubah bentuk data dapat dilakukan dengan cara berikut\n",
    "1. df1['Jenis Kelamin'].replace(to_replace='Pria', value=1, inplace=True)\n",
    "2. df1['Jenis Kelamin'].replace(to_replace='Wanita',  value=0, inplace=True)"
   ]
  },
  {
   "cell_type": "code",
   "execution_count": 23,
   "id": "eb193cd9",
   "metadata": {
    "slideshow": {
     "slide_type": "slide"
    }
   },
   "outputs": [
    {
     "name": "stdout",
     "output_type": "stream",
     "text": [
      "                   Lulus Tepat Waktu\n",
      "Jenis Kelamin               0.086303\n",
      "Usia                       -0.454844\n",
      "Status Bekerja             -0.325049\n",
      "IPK semester 2              0.008860\n",
      "IPK semester 3              0.007193\n",
      "IPK semester 4              0.037840\n",
      "IPK semester 5             -0.070511\n",
      "IPK semester 6              0.101607\n",
      "IPK semester 7              0.002843\n",
      "Lulus Tepat Waktu           1.000000\n"
     ]
    }
   ],
   "source": [
    "# Menampilkan korelasi positif dan negatif dengan kolom 'loan_status'  \n",
    "correlation = df2.corr()[[\"Lulus Tepat Waktu\"]]  \n",
    "\n",
    "# Menampilkan nilai korelasi  \n",
    "print(correlation)"
   ]
  },
  {
   "cell_type": "markdown",
   "id": "461b0bef",
   "metadata": {},
   "source": [
    "- Analisis Korelasi\n",
    "- Kita dapat menganalisis korelasi antara semua variabel masukan untuk mengidentifikasi fitur yang akan menjadi masukan terbaik untuk model pembelajaran mesin. Semakin dekat suatu nilai dengan 1, semakin tinggi korelasi antara nilai dan hasilnya.\n",
    "- REKRUSIF FEATURE ELIMINATION (RFE)"
   ]
  },
  {
   "cell_type": "markdown",
   "id": "f92062ac",
   "metadata": {
    "slideshow": {
     "slide_type": "slide"
    }
   },
   "source": [
    "# Visualisasi Data\n",
    "- Visualisasi data adalah proses menggunakan elemen visual seperti diagram, grafik, atau peta untuk merepresentasikan data (https://aws.amazon.com), Dengan kata lain, ini adalah proses mengubah data hasil analisis menjadi gambaran visual berupa bagan, peta, grafik, dan banyak lainnya.\n",
    "- Visualisasi data merupakan cara terbaik untuk menyajikan data kepada audiens non-teknis supaya mereka tidak kesulitan untuk membaca dan memahami data tersebut. Ini juga juga memungkinkan para pengambil keputusan dalam memahami konsep sulit atau mengidentifikasi pola baru.\n",
    "- modul/library yang populer digunakan untuk visualisasi data dalam python adalah Matplotlib dan seaborn\n",
    "1. Matplotlib adalah library Python yang digunakan untuk membuat visualisasi data agar lebih menarik dan mudah dipahami. Matplotlib dapat membuat visualisasi data dalam bentuk 2D dan 3D yang disesuaikan dengan kebutuhan. Beberapa bagian seperti ukuran, warna, dan lainnya bisa diatur oleh pemrogram agar informasi dapat tersampaikan dengan baik.\n",
    "2. Seaborn sesungguhnya tidaklah jauh berbeda dibandingkan matplotlib, sebab seaborn dibangun di atas matplotlib sebagai pustaka fondasi utama-nya. Plot - plot rumit yang sukar dikerjakan oleh para analis data dalam matplotlib dapat dengan mudah dikerjakan dalam seaborn. Seaborn dalam hal ini merupakan pelengkap matplotlib, bukan pengganti."
   ]
  },
  {
   "cell_type": "markdown",
   "id": "cefa3257",
   "metadata": {
    "slideshow": {
     "slide_type": "slide"
    }
   },
   "source": [
    "## 1. Menampilkan Visualisasi Korelasi antar feature/kolom"
   ]
  },
  {
   "cell_type": "code",
   "execution_count": 24,
   "id": "350c8ded",
   "metadata": {},
   "outputs": [
    {
     "data": {
      "text/plain": [
       "<AxesSubplot: >"
      ]
     },
     "execution_count": 24,
     "metadata": {},
     "output_type": "execute_result"
    },
    {
     "data": {
      "image/png": "[encoded data removed]",
      "text/plain": [
       "<Figure size 1200x600 with 1 Axes>"
      ]
     },
     "metadata": {},
     "output_type": "display_data"
    }
   ],
   "source": [
    "# Visualisasi menggunakan grafik batang\n",
    "plt.figure(figsize=(12,6))\n",
    "df2.corr()['Lulus Tepat Waktu'].sort_values(ascending = False).plot(kind='bar', color=['red', 'green', 'blue'])"
   ]
  },
  {
   "cell_type": "markdown",
   "id": "98f97c16",
   "metadata": {
    "slideshow": {
     "slide_type": "slide"
    }
   },
   "source": [
    "#### Analisa visualisasi\n",
    "- dari visualisasi dengan grafik batang diatas, dapat dilihat bahwa:\n",
    "1. sisi grafik batang bagian atas menunjukkan korelasi positif antar feature/kolom, terlihat bahwa IPK semester 6 memiliki korelasi positif terhadap kelulusan Mahasiswa, yaitu sebesar 0,1. di ikuti dengan jenis kelamin sebesar 0,08.\n",
    "2. sedangkan sisi grafik batang bagian bawah menunjukkan korelasi negatif antar feature/kolom, terlihat bahwa usia memiliki korelasi negatif terhadap kelulusan Mahasiswa, yaitu sebesar - 0,45. di ikuti dengan status bekerja sebesar - 0,38"
   ]
  },
  {
   "cell_type": "code",
   "execution_count": 25,
   "id": "540eedea",
   "metadata": {
    "slideshow": {
     "slide_type": "slide"
    }
   },
   "outputs": [
    {
     "data": {
      "image/png": "[encoded data removed]",
      "text/plain": [
       "<Figure size 640x480 with 2 Axes>"
      ]
     },
     "metadata": {},
     "output_type": "display_data"
    }
   ],
   "source": [
    "# Membuat visualisasi dengan grafik Heatmap\n",
    "# Membuat korelasi matriks untuk semua variabel numerik\n",
    "corr_matrix = df2.corr()\n",
    "\n",
    "# Membuat heatmap\n",
    "sns.heatmap(corr_matrix, cmap='coolwarm')\n",
    "\n",
    "plt.show()"
   ]
  },
  {
   "cell_type": "markdown",
   "id": "cf3638b5",
   "metadata": {
    "slideshow": {
     "slide_type": "slide"
    }
   },
   "source": [
    "- Hasil visualisasi diatas akan menampilkan heatmap yang menunjukkan korelasi antara semua variabel numerik dalam dataset.\n",
    "- Semakin dekat dengan warna merah, semakin tinggi korelasi positif antara dua variabel.\n",
    "- Sebaliknya, semakin dekat dengan warna biru, semakin tinggi korelasi negatif antara dua variabel."
   ]
  },
  {
   "cell_type": "markdown",
   "id": "7bf4e804",
   "metadata": {
    "slideshow": {
     "slide_type": "slide"
    }
   },
   "source": [
    "## 2. Menampilkan Distribusi Label/Class/Output (Kelulusan Mahasiswa)"
   ]
  },
  {
   "cell_type": "code",
   "execution_count": 26,
   "id": "df520a68",
   "metadata": {
    "slideshow": {
     "slide_type": "slide"
    }
   },
   "outputs": [
    {
     "data": {
      "image/png": "[encoded data removed]",
      "text/plain": [
       "<Figure size 640x480 with 1 Axes>"
      ]
     },
     "metadata": {},
     "output_type": "display_data"
    }
   ],
   "source": [
    "colors = ['#4D3425','#E4512B']\n",
    "ax = (df2['Lulus Tepat Waktu'].value_counts()*100.0 /len(df)).plot(kind='bar',stacked = True, rot = 0, color = colors)\n",
    "ax.yaxis.set_major_formatter(mtick.PercentFormatter())\n",
    "ax.set_ylabel('% Mahasiswa')\n",
    "ax.set_xlabel('Status Kelulusan')\n",
    "ax.set_ylabel('% Mahasiswa')\n",
    "ax.set_title('distribusi Lulus Tepat Waktu')\n",
    "\n",
    "# Membuat list untuk mengumpulkan data plot\n",
    "totals = []\n",
    "# mengambil nilai dan menambahkan ke list\n",
    "for i in ax.patches:\n",
    "    totals.append(i.get_width())\n",
    "#memberi label pada grafik batang menggunakan list di atas\n",
    "total = sum(totals)\n",
    "\n",
    "for i in ax.patches:\n",
    "    # mengatur ukuran lebar dan tinggi grafik\n",
    "    ax.text(i.get_x()+.10, i.get_height()-2.5, \\\n",
    "            str(round((i.get_height()/total), 1))+'%',\n",
    "            fontsize=10,\n",
    "            color='white',\n",
    "           weight = 'bold')"
   ]
  },
  {
   "cell_type": "markdown",
   "id": "34f10a01",
   "metadata": {
    "slideshow": {
     "slide_type": "slide"
    }
   },
   "source": [
    "- Distribusi Status Kelulusan Mahasiswa - lebih dari separuh dari mahasiswa dalam kumpulan data, yang lulus tepat waktu (53,2%), sementara 46,8% lainnya adalah tidak tepat waktu., angka ini relatif tinggi sehingga perlu dilakkukan analisa lebih jauh"
   ]
  },
  {
   "cell_type": "markdown",
   "id": "1b7fe2e5",
   "metadata": {
    "slideshow": {
     "slide_type": "slide"
    }
   },
   "source": [
    "### Distribusi Feature/Kolom IPK Semester 6\n",
    "- feature/kolom ini memiliki korelasi positif yang paling tinggi diantara yang lain"
   ]
  },
  {
   "cell_type": "code",
   "execution_count": 27,
   "id": "1950e5c9",
   "metadata": {
    "slideshow": {
     "slide_type": "slide"
    }
   },
   "outputs": [
    {
     "data": {
      "image/png": "[encoded data removed]",
      "text/plain": [
       "<Figure size 640x480 with 1 Axes>"
      ]
     },
     "metadata": {},
     "output_type": "display_data"
    }
   ],
   "source": [
    "fig = plt.figure()\n",
    "ax = sns.histplot(data = df2, x='IPK semester 6')\n",
    "plt.show() "
   ]
  },
  {
   "cell_type": "markdown",
   "id": "068590a8",
   "metadata": {
    "slideshow": {
     "slide_type": "slide"
    }
   },
   "source": [
    "#### Dari visualisasi di atas, dapat dikatakan bahwa IPK di semester 6 terdapat :\n",
    "- sekitar 53 orang mahasiswa dengan IPK 2,9-3,1\n",
    "- sekitar 48 orang mahasiswa dengan IPK 2,74-2,8\n",
    "- sekitar 25 orang mahasiswa dengan IPK 2,4-2,52\n",
    "- Minimum (2.0) dan Maximum (over 3.76) masih berada di dalam `Interquartile Range` sehingga tidak ada Outliers"
   ]
  },
  {
   "cell_type": "markdown",
   "id": "c7b4bcae",
   "metadata": {
    "slideshow": {
     "slide_type": "slide"
    }
   },
   "source": [
    "### Distribusi Feature/Kolom Jenis Kelamin\n",
    "- feature/kolom ini memiliki korelasi positif yang tinggi etelah IPK semester 6"
   ]
  },
  {
   "cell_type": "code",
   "execution_count": 28,
   "id": "5751b67b",
   "metadata": {
    "slideshow": {
     "slide_type": "slide"
    }
   },
   "outputs": [
    {
     "data": {
      "text/plain": [
       "Text(0.5, 1.0, '% Jenis Kelamin')"
      ]
     },
     "execution_count": 28,
     "metadata": {},
     "output_type": "execute_result"
    },
    {
     "data": {
      "image/png": "[encoded data removed]",
      "text/plain": [
       "<Figure size 500x500 with 1 Axes>"
      ]
     },
     "metadata": {},
     "output_type": "display_data"
    }
   ],
   "source": [
    "#Distribusi Jenis Kelamin Mahasiswa\n",
    "ax = (df2['Jenis Kelamin'].value_counts()*100.0 /len(df))\\\n",
    ".plot.pie(autopct='%.1f%%', labels = ['Pria', 'Wanita'],figsize =(5,5), fontsize = 12 )                                                                           \n",
    "ax.yaxis.set_major_formatter(mtick.PercentFormatter())\n",
    "ax.set_ylabel('JK',fontsize = 12)\n",
    "ax.set_title('% Jenis Kelamin', fontsize = 12)"
   ]
  },
  {
   "cell_type": "markdown",
   "id": "59422120",
   "metadata": {
    "slideshow": {
     "slide_type": "slide"
    }
   },
   "source": [
    "- Distribusi Jenis Kelamin Mahasiswa - sebanyak 77,3% Pria dan 22,7% adalah wanita"
   ]
  },
  {
   "cell_type": "markdown",
   "id": "f5568b28",
   "metadata": {
    "slideshow": {
     "slide_type": "slide"
    }
   },
   "source": [
    "### Distribusi Usia\n",
    "- Feature usia ini memiliki korelasi negatif tertinggi sebesar -0,45 dibandingkan feature yang lainnya"
   ]
  },
  {
   "cell_type": "code",
   "execution_count": 29,
   "id": "9c77bf79",
   "metadata": {
    "slideshow": {
     "slide_type": "slide"
    }
   },
   "outputs": [
    {
     "name": "stdout",
     "output_type": "stream",
     "text": [
      "21    56\n",
      "22    41\n",
      "28    30\n",
      "26    24\n",
      "30    24\n",
      "27    20\n",
      "25    14\n",
      "24    10\n",
      "29     9\n",
      "23     4\n",
      "31     3\n",
      "Name: Usia, dtype: int64\n"
     ]
    }
   ],
   "source": [
    "# Untuk memastikan jumlah dari mahasiswa dengan usia tertentu kita dapat melihat/menampilkan frekuensi kemunculan data\n",
    "print(df['Usia'].value_counts())"
   ]
  },
  {
   "cell_type": "markdown",
   "id": "6aa8781e",
   "metadata": {
    "slideshow": {
     "slide_type": "slide"
    }
   },
   "source": [
    "- dari visualisasi diatas dapat dilihat bahwa:\n",
    "1. terdapat 97 mahasiswa dengan rentang usia 21-22 tahun\n",
    "2. terdapat 4 mahasiswa dengan usia 23 tahun\n",
    "3. terdapat 10 mahasiswa dengan rentang usia 24 tahun\n",
    "4. terdapat 14 mahasiswa dengan rentang usia 25 tahun\n",
    "5. terdapat 24 mahasiswa dengan rentang usia 26 tahun\n",
    "6. terdapat 20 mahasiswa dengan rentang usia 27 tahun\n",
    "7. terdapat 30 mahasiswa dengan rentang usia 28 tahun\n",
    "8. terdapat 9 mahasiswa dengan rentang usia 29 tahun\n",
    "9. terdapat 27 mahasiswa dengan rentang usia 30-31 tahun"
   ]
  },
  {
   "cell_type": "markdown",
   "id": "761aeed7",
   "metadata": {},
   "source": [
    "#### Distribusi Usia dengan IPK semester 6"
   ]
  },
  {
   "cell_type": "code",
   "execution_count": 30,
   "id": "c9105766",
   "metadata": {},
   "outputs": [
    {
     "data": {
      "text/plain": [
       "<Figure size 640x480 with 0 Axes>"
      ]
     },
     "metadata": {},
     "output_type": "display_data"
    },
    {
     "data": {
      "image/png": "[encoded data removed]",
      "text/plain": [
       "<Figure size 600x600 with 3 Axes>"
      ]
     },
     "metadata": {},
     "output_type": "display_data"
    }
   ],
   "source": [
    "fig = plt.figure()\n",
    "ax=sns.jointplot(x='Usia', y='IPK semester 6', data=df2)\n",
    "plt. show()"
   ]
  },
  {
   "cell_type": "markdown",
   "id": "90d8f528",
   "metadata": {},
   "source": [
    "- Dari visualisasi diatas terlihat bahwa distribusi usia 27-31 tahun cenderung memiliki IPK semester 6 cenderung berada di Q2 dan Q3, sedangkan usia 21-26 tahun, cenderung lebih merata berada di Q1-Q3"
   ]
  },
  {
   "cell_type": "markdown",
   "id": "37958554",
   "metadata": {},
   "source": [
    "#### Distribusi Usia dengan Jenis Kelamin"
   ]
  },
  {
   "cell_type": "code",
   "execution_count": 31,
   "id": "2d0c64a2",
   "metadata": {},
   "outputs": [
    {
     "data": {
      "image/png": "[encoded data removed]",
      "text/plain": [
       "<Figure size 640x480 with 1 Axes>"
      ]
     },
     "metadata": {},
     "output_type": "display_data"
    }
   ],
   "source": [
    "fig = plt.figure()  \n",
    "ax = sns.countplot(data = df2, x='Jenis Kelamin', hue = 'Usia')\n",
    "plt.show() "
   ]
  },
  {
   "cell_type": "markdown",
   "id": "3411b397",
   "metadata": {
    "slideshow": {
     "slide_type": "slide"
    }
   },
   "source": [
    "- Dari visualisasi diatas terlihat bahwa distribusi usia berdasarkan jenis kelamin\n",
    "- 1. terdapat 8 mahasiswa wanita dengan usia 21 tahun, 48 mahasiswa pria di usia 21 tahun\n",
    "- 2. terdapat 10 mahasiswa wanita dengan usia 22 tahun, 31 mahasiswa pria di usia 22 tahun\n",
    "- 3. terdapat 8 mahasiswa wanita dengan usia 28 tahun, 22 mahasiswa pria di usia 28 tahun\n",
    "- 4. terdapat 7 mahasiswa wanita dengan usia 30 tahun, 17 mahasiswa pria di usia 30 tahun"
   ]
  },
  {
   "cell_type": "markdown",
   "id": "ee314ad3",
   "metadata": {
    "slideshow": {
     "slide_type": "slide"
    }
   },
   "source": [
    "### Distribusi Status Bekerja\n",
    "- Feature usia ini memiliki korelasi negatif kedua tertinggi sebesar -0,32 setelah feature usia"
   ]
  },
  {
   "cell_type": "code",
   "execution_count": 32,
   "id": "291f1fbe",
   "metadata": {
    "slideshow": {
     "slide_type": "slide"
    }
   },
   "outputs": [
    {
     "data": {
      "image/png": "[encoded data removed]",
      "text/plain": [
       "<Figure size 640x480 with 1 Axes>"
      ]
     },
     "metadata": {},
     "output_type": "display_data"
    }
   ],
   "source": [
    "colors = ['#4D3425','#E4512B']\n",
    "ax = (df2['Status Bekerja'].value_counts()*100.0 /len(df)).plot(kind='bar',stacked = True, rot = 0, color = colors)\n",
    "ax.yaxis.set_major_formatter(mtick.PercentFormatter())\n",
    "ax.set_ylabel('% Mahasiswa')\n",
    "ax.set_xlabel('Status Bekerja')\n",
    "ax.set_ylabel('% Mahasiswa')\n",
    "ax.set_title('distribusi Status Bekerja')\n",
    "\n",
    "# Membuat list untuk mengumpulkan data plt\n",
    "totals = []\n",
    "\n",
    "# mengambil nilai dan menambahkan ke list\n",
    "for i in ax.patches:\n",
    "    totals.append(i.get_width())\n",
    "\n",
    "#memberi label pada grafik batang menggunakan list di atas\n",
    "total = sum(totals)\n",
    "\n",
    "for i in ax.patches:\n",
    "    # men gatur ukuran lebar dan tinggi grafik\n",
    "    ax.text(i.get_x()+.10, i.get_height()-2.5, \\\n",
    "            str(round((i.get_height()/total), 1))+'%',\n",
    "            fontsize=6,\n",
    "            color='white',\n",
    "           weight = 'bold')"
   ]
  },
  {
   "cell_type": "markdown",
   "id": "6c3ad20f",
   "metadata": {
    "slideshow": {
     "slide_type": "slide"
    }
   },
   "source": [
    "- Distribusi Satus Pekerjaan Mahasiswa - sebanyak 52,3% dari mahasiswa memiliki status sebagai pekerja(bekerja), sementara 47,7% lainnya memiliki status hanya sebagai mahasiswa (tidak bekerja)"
   ]
  },
  {
   "cell_type": "code",
   "execution_count": 33,
   "id": "e84ca147",
   "metadata": {
    "slideshow": {
     "slide_type": "slide"
    }
   },
   "outputs": [
    {
     "data": {
      "image/png": "[encoded data removed]",
      "text/plain": [
       "<Figure size 640x480 with 1 Axes>"
      ]
     },
     "metadata": {},
     "output_type": "display_data"
    }
   ],
   "source": [
    "fig = plt.figure()  \n",
    "ax = sns.histplot(data = df2, x='IPK semester 6', hue = 'Status Bekerja')\n",
    "plt.show()"
   ]
  },
  {
   "cell_type": "markdown",
   "id": "c061ea31",
   "metadata": {},
   "source": [
    "- Terlihat bahwa mahasiswa dengan status bekerja, IPK semester 6 nya cenderung lebih baik dibandingkan dengan mahasiswa yang memiliki status tidak bekerja."
   ]
  },
  {
   "cell_type": "code",
   "execution_count": 34,
   "id": "0f9f5b6d",
   "metadata": {
    "slideshow": {
     "slide_type": "slide"
    }
   },
   "outputs": [
    {
     "data": {
      "image/png": "[encoded data removed]",
      "text/plain": [
       "<Figure size 800x600 with 1 Axes>"
      ]
     },
     "metadata": {},
     "output_type": "display_data"
    }
   ],
   "source": [
    "df3 = pd.melt(df, id_vars=['Nim'], value_vars=['Jenis Kelamin','Status Bekerja'])\n",
    "df4 = df3.groupby(['variable','value']).count().unstack()\n",
    "df4 = df4*100/len(df)\n",
    "colors = ['#4D3425','#E4512B']\n",
    "ax = df4.loc[:,'Nim'].plot.bar(stacked=True, color=colors,\n",
    "                                      figsize=(8,6),rot = 0,\n",
    "                                     width = 0.2)\n",
    "\n",
    "ax.yaxis.set_major_formatter(mtick.PercentFormatter())\n",
    "ax.set_ylabel('% Mahasiswa',size = 14)\n",
    "ax.set_xlabel('')\n",
    "ax.set_title('% Mahasiswa berdasarkan jenis kelamin dan status Bekerja',size = 14)\n",
    "ax.legend(loc = 'center',prop={'size':14})\n",
    "\n",
    "for p in ax.patches:\n",
    "    width, height = p.get_width(), p.get_height()\n",
    "    x, y = p.get_xy() \n",
    "    ax.annotate('{:.0f}%'.format(height), (p.get_x()+.25*width, p.get_y()+.4*height),\n",
    "                color = 'white',\n",
    "               weight = 'bold',\n",
    "               size = 14)"
   ]
  },
  {
   "cell_type": "markdown",
   "id": "ebb79eff",
   "metadata": {
    "slideshow": {
     "slide_type": "slide"
    }
   },
   "source": [
    "- Distribusi Jenis Kelamin Mahasiswa - sebanyak 77% Pria dan 23% adalah wanita\n",
    "- Distribusi Satus Pekerjaan Mahasiswa - sebanyak 52,3% dari mahasiswa memiliki status sebagai pekerja(bekerja), sementara 47,7% lainnya memiliki status hanya sebagai mahasiswa (tidak bekerja)"
   ]
  },
  {
   "cell_type": "markdown",
   "id": "45d0125a",
   "metadata": {
    "slideshow": {
     "slide_type": "slide"
    }
   },
   "source": [
    "# Pengaruh Distribusi Usia Terhadap Kelulusan Mahasiswa"
   ]
  },
  {
   "cell_type": "code",
   "execution_count": 35,
   "id": "7f5db690",
   "metadata": {
    "slideshow": {
     "slide_type": "slide"
    }
   },
   "outputs": [
    {
     "data": {
      "image/png": "[encoded data removed]",
      "text/plain": [
       "<Figure size 640x480 with 1 Axes>"
      ]
     },
     "metadata": {},
     "output_type": "display_data"
    }
   ],
   "source": [
    "fig = plt.figure()  \n",
    "ax = sns.countplot(data = df, x='Lulus Tepat Waktu', hue = 'Usia')\n",
    "plt.show() "
   ]
  },
  {
   "cell_type": "markdown",
   "id": "c99a8cb3",
   "metadata": {
    "slideshow": {
     "slide_type": "slide"
    }
   },
   "source": [
    "### Pola/Trend Data\n",
    "- Dari visualisasi diatas terlihat bahwa trend mahasiswa yang tidak lulus tepat waktu cenderung merupakan mahasiswa yang memiliki rentang usia 25 tahun - usia 31 tahun\n",
    "- sedangkan untuk mahasiswa yang lulus tepat waktu cenderung merupakan mahasiswa yang memiliki rentang usia 21 tahun - usia 24 tahun"
   ]
  },
  {
   "cell_type": "markdown",
   "id": "ef7e1177",
   "metadata": {
    "slideshow": {
     "slide_type": "slide"
    }
   },
   "source": [
    "# Pengaruh Distribusi Status Bekerja Terhadap Kelulusan Mahasiswa"
   ]
  },
  {
   "cell_type": "code",
   "execution_count": 36,
   "id": "e637da0d",
   "metadata": {
    "slideshow": {
     "slide_type": "slide"
    }
   },
   "outputs": [
    {
     "data": {
      "image/png": "[encoded data removed]",
      "text/plain": [
       "<Figure size 640x480 with 1 Axes>"
      ]
     },
     "metadata": {},
     "output_type": "display_data"
    }
   ],
   "source": [
    "fig = plt.figure()  \n",
    "ax = sns.countplot(data = df, x='Lulus Tepat Waktu', hue = 'Status Bekerja')\n",
    "plt.show() "
   ]
  },
  {
   "cell_type": "markdown",
   "id": "23d41742",
   "metadata": {
    "slideshow": {
     "slide_type": "slide"
    }
   },
   "source": [
    "### Pola/Trend Data\n",
    "- Dari visualisasi diatas terlihat bahwa trend mahasiswa yang tidak lulus tepat waktu cenderung merupakan mahasiswa yang memiliki status bekerja\n",
    "- sedangkan untuk mahasiswa yang lulus tepat waktu cenderung merupakan mahasiswa yang memiliki status tidak bekerja"
   ]
  },
  {
   "cell_type": "markdown",
   "id": "3036b080",
   "metadata": {
    "slideshow": {
     "slide_type": "slide"
    }
   },
   "source": [
    "# Pengaruh Distribusi IPK SM 6 Terhadap Kelulusan Mahasiswa"
   ]
  },
  {
   "cell_type": "code",
   "execution_count": 37,
   "id": "f18f4234",
   "metadata": {
    "slideshow": {
     "slide_type": "slide"
    }
   },
   "outputs": [
    {
     "data": {
      "image/png": "[encoded data removed]",
      "text/plain": [
       "<Figure size 640x480 with 1 Axes>"
      ]
     },
     "metadata": {},
     "output_type": "display_data"
    }
   ],
   "source": [
    "fig = plt.figure()  \n",
    "ax = sns.countplot(data = df, x='Lulus Tepat Waktu', hue = 'IPK semester 6')\n",
    "plt.show()"
   ]
  },
  {
   "cell_type": "markdown",
   "id": "70cb2bdd",
   "metadata": {
    "slideshow": {
     "slide_type": "slide"
    }
   },
   "source": [
    "### Pola/Trend Data\n",
    "- Dari visualisasi diatas terlihat bahwa trend mahasiswa yang tidak lulus tepat waktu cenderung memiliki nilai IPK semester 6 yang relatif rendah(2.1-2.76)\n",
    "- sedangkan untuk mahasiswa yang lulus tepat waktu cenderung merupakan mahasiswa yangmemiliki nilai IPK semester 6 yang relatif tinggi (2.78-3.8)"
   ]
  },
  {
   "cell_type": "markdown",
   "id": "c69fb3e8",
   "metadata": {
    "slideshow": {
     "slide_type": "slide"
    }
   },
   "source": [
    "# Pengaruh Distribusi Jenis Kelamin Terhadap Kelulusan Mahasiswa"
   ]
  },
  {
   "cell_type": "code",
   "execution_count": 38,
   "id": "8cd0a761",
   "metadata": {
    "slideshow": {
     "slide_type": "slide"
    }
   },
   "outputs": [
    {
     "data": {
      "image/png": "[encoded data removed]",
      "text/plain": [
       "<Figure size 640x480 with 1 Axes>"
      ]
     },
     "metadata": {},
     "output_type": "display_data"
    }
   ],
   "source": [
    "fig = plt.figure()  \n",
    "ax = sns.countplot(data = df, x='Lulus Tepat Waktu', hue = 'Jenis Kelamin')\n",
    "plt.show() "
   ]
  },
  {
   "cell_type": "markdown",
   "id": "0fa405e1",
   "metadata": {
    "slideshow": {
     "slide_type": "slide"
    }
   },
   "source": [
    "### Pola/Trend Data\n",
    "- Dari visualisasi diatas terlihat bahwa trend mahasiswa yang tidak lulus tepat waktu cenderung merupakan mahasiswa yang berjenis kelamin wanita (dari total jumlah mahasiswa berjenis kelamin wanita)\n",
    "- sedangkan untuk mahasiswa yang lulus tepat waktu cenderung merupakan mahasiswa yang berjenis kelamin Pria (dari total jumlah mahasiswa berjenis kelamin pria)"
   ]
  },
  {
   "cell_type": "markdown",
   "id": "e2222e7e",
   "metadata": {
    "slideshow": {
     "slide_type": "slide"
    }
   },
   "source": [
    "### Berdasarkan dari hasil analisis dan visualisasi data yang telah dilakukan, didapatkan informasi bahwa:\n",
    "\n",
    "1. Mahasiswa dengan nilai IPK semester 6 yang lebih tinggi cenderung lebih mudah lulus tepat waktu.\n",
    "- Hal ini dapat disebabkan oleh kemampuan akademik mahasiswa yang lebih baik, yang membuat mereka lebih mudah menyelesaikan tugas dan ujian tepat waktu.\n",
    "2. Mahasiswa perempuan cenderung memiliki tingkat kelulusan yang lebih rendah dibandingkan mahasiswa laki-laki.\n",
    "- Hal ini dapat disebabkan oleh perbedaan gender dalam faktor-faktor seperti beban kerja di luar kampus, dukungan sosial, dan perbedaan persepsi terhadap pendidikan.\n",
    "3. Mahasiswa yang lebih muda cenderung lebih mudah lulus tepat waktu.\n",
    "- Hal ini dapat disebabkan oleh fakta bahwa mahasiswa yang lebih muda cenderung memiliki lebih banyak waktu untuk fokus pada pendidikan dan kurangnya tanggung jawab lain yang terkait dengan usia yang lebih tua.\n",
    "4. Mahasiswa yang tidak bekerja cenderung memiliki tingkat kelulusan yang lebih tinggi dibandingkan mahasiswa yang bekerja.\n",
    "- Hal ini dapat disebabkan oleh fakta bahwa mahasiswa yang tidak bekerja cenderung memiliki lebih banyak waktu untuk fokus pada pendidikan dan kurangnya beban kerja di luar kampus yang dapat mempengaruhi kinerja akademik mereka."
   ]
  },
  {
   "cell_type": "code",
   "execution_count": 39,
   "id": "1bd48a4f",
   "metadata": {},
   "outputs": [],
   "source": [
    "#menyimpan dataset yang telah dibersihkan\n",
    "df2.to_csv('./simpandata/CleandataMHS.csv', index=False)"
   ]
  },
  {
   "cell_type": "code",
   "execution_count": null,
   "id": "65a4df62",
   "metadata": {},
   "outputs": [],
   "source": []
  }
 ],
 "metadata": {
  "celltoolbar": "Slideshow",
  "kernelspec": {
   "display_name": "Python 3 (ipykernel)",
   "language": "python",
   "name": "python3"
  },
  "language_info": {
   "codemirror_mode": {
    "name": "ipython",
    "version": 3
   },
   "file_extension": ".py",
   "mimetype": "text/x-python",
   "name": "python",
   "nbconvert_exporter": "python",
   "pygments_lexer": "ipython3",
   "version": "3.13.5"
  }
 },
 "nbformat": 4,
 "nbformat_minor": 5
}
